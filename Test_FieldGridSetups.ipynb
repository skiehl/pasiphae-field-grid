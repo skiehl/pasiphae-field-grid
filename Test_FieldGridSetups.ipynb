{
 "cells": [
  {
   "cell_type": "markdown",
   "id": "c37a41d1-3dd3-4b61-903c-e96f5e230cb6",
   "metadata": {},
   "source": [
    "# Test Pasiphae field grid setups"
   ]
  },
  {
   "cell_type": "markdown",
   "id": "410e2eb7-79ac-4e51-9a71-51e8077cee24",
   "metadata": {},
   "source": [
    "**Question:** How many fields do specific setup choices add to the grid?"
   ]
  },
  {
   "cell_type": "code",
   "execution_count": 1,
   "id": "5da0cd25-a5ab-4e93-968f-41cfdef30f74",
   "metadata": {},
   "outputs": [],
   "source": [
    "from astropy.coordinates import Angle\n",
    "import astropy.units as u\n",
    "import pandas as pd\n",
    "\n",
    "from fieldgrid import FieldGridIsoLat"
   ]
  },
  {
   "cell_type": "markdown",
   "id": "a7ddd46b-9fab-4b2f-892c-daaac5e4136e",
   "metadata": {},
   "source": [
    "## Northern Grid"
   ]
  },
  {
   "cell_type": "code",
   "execution_count": 2,
   "id": "e93021b6-0c51-484b-b04b-aba1f77ab3b5",
   "metadata": {},
   "outputs": [],
   "source": [
    "n_fields = {'description': [], 'n_fields': []}"
   ]
  },
  {
   "cell_type": "markdown",
   "id": "006e0850-ebc1-484d-ba2a-44612c12f0d6",
   "metadata": {},
   "source": [
    "Minimal grid setup:"
   ]
  },
  {
   "cell_type": "code",
   "execution_count": 3,
   "id": "88fb2424-4ece-48f6-9669-4e7e260db7fe",
   "metadata": {},
   "outputs": [
    {
     "name": "stdout",
     "output_type": "stream",
     "text": [
      "Create fields..\n",
      "  Calculate field centers..\n",
      "  Calculate field corners..\n",
      "    Done                                                    \n",
      "  Identify fields in Galactic plane..\n",
      "Final number of fields: 82664\n"
     ]
    }
   ],
   "source": [
    "fov = Angle(30 * u.arcmin)\n",
    "overlap_ns = Angle(fov / 2.)\n",
    "overlap_ew = Angle(0 * u.arcsec)\n",
    "tilt = Angle(0 * u.deg)\n",
    "dec_lim_north = Angle(90 * u.deg)\n",
    "dec_lim_south = Angle(0 * u.deg)\n",
    "gal_lat_lim = Angle(30 * u.deg)\n",
    "gal_lat_lim_strict = False\n",
    "verbose = 1\n",
    "\n",
    "grid = FieldGridIsoLat(\n",
    "        fov.rad, overlap_ns=overlap_ns.rad, overlap_ew=overlap_ew.rad, tilt=tilt.rad, dec_lim_north=dec_lim_north.rad, \n",
    "        dec_lim_south=dec_lim_south.rad, gal_lat_lim=gal_lat_lim.rad, gal_lat_lim_strict=gal_lat_lim_strict, verbose=verbose)"
   ]
  },
  {
   "cell_type": "code",
   "execution_count": 4,
   "id": "9394be38-61f8-4caf-913b-a541799fcef5",
   "metadata": {},
   "outputs": [],
   "source": [
    "n_fields['description'].append('basic')\n",
    "n_fields['n_fields'].append(len(grid))"
   ]
  },
  {
   "cell_type": "markdown",
   "id": "4e84d043-9324-4cba-b894-be17ca15f024",
   "metadata": {},
   "source": [
    "Add E-W overlap of 10 arcsec:"
   ]
  },
  {
   "cell_type": "code",
   "execution_count": 5,
   "id": "198f1af9-e4de-4d9b-b503-44d2d336812c",
   "metadata": {},
   "outputs": [
    {
     "name": "stdout",
     "output_type": "stream",
     "text": [
      "Create fields..\n",
      "  Calculate field centers..\n",
      "  Calculate field corners..\n",
      "    Done                                                    \n",
      "  Identify fields in Galactic plane..\n",
      "Final number of fields: 82895\n"
     ]
    }
   ],
   "source": [
    "fov = Angle(30 * u.arcmin)\n",
    "overlap_ns = Angle(fov / 2.)\n",
    "overlap_ew = Angle(10 * u.arcsec)\n",
    "tilt = Angle(0 * u.deg)\n",
    "dec_lim_north = Angle(90 * u.deg)\n",
    "dec_lim_south = Angle(0 * u.deg)\n",
    "gal_lat_lim = Angle(30 * u.deg)\n",
    "gal_lat_lim_strict = False\n",
    "verbose = 1\n",
    "\n",
    "grid = FieldGridIsoLat(\n",
    "        fov.rad, overlap_ns=overlap_ns.rad, overlap_ew=overlap_ew.rad, tilt=tilt.rad, dec_lim_north=dec_lim_north.rad, \n",
    "        dec_lim_south=dec_lim_south.rad, gal_lat_lim=gal_lat_lim.rad, gal_lat_lim_strict=gal_lat_lim_strict, verbose=verbose)"
   ]
  },
  {
   "cell_type": "code",
   "execution_count": 6,
   "id": "2ec5954f-1b92-4ea2-bb9e-d78ec5e1bb4f",
   "metadata": {},
   "outputs": [],
   "source": [
    "n_fields['description'].append('+ 10\" E-W-overlap')\n",
    "n_fields['n_fields'].append(len(grid))"
   ]
  },
  {
   "cell_type": "markdown",
   "id": "e0b7ea3e-a107-40be-ba9d-b8c326dd485e",
   "metadata": {},
   "source": [
    "Activate strict Galactic latitude limit:"
   ]
  },
  {
   "cell_type": "code",
   "execution_count": 7,
   "id": "29164f30-51b5-47fb-896f-abd7ea8b0593",
   "metadata": {},
   "outputs": [
    {
     "name": "stdout",
     "output_type": "stream",
     "text": [
      "Create fields..\n",
      "  Calculate field centers..\n",
      "  Calculate field corners..\n",
      "    Done                                                    \n",
      "  Identify fields in Galactic plane..\n",
      "Final number of fields: 83441\n"
     ]
    }
   ],
   "source": [
    "fov = Angle(30 * u.arcmin)\n",
    "overlap_ns = Angle(fov / 2.)\n",
    "overlap_ew = Angle(0 * u.arcsec)\n",
    "tilt = Angle(0 * u.deg)\n",
    "dec_lim_north = Angle(90 * u.deg)\n",
    "dec_lim_south = Angle(0 * u.deg)\n",
    "gal_lat_lim = Angle(30 * u.deg)\n",
    "gal_lat_lim_strict = True\n",
    "verbose = 1\n",
    "\n",
    "grid = FieldGridIsoLat(\n",
    "        fov.rad, overlap_ns=overlap_ns.rad, overlap_ew=overlap_ew.rad, tilt=tilt.rad, dec_lim_north=dec_lim_north.rad, \n",
    "        dec_lim_south=dec_lim_south.rad, gal_lat_lim=gal_lat_lim.rad, gal_lat_lim_strict=gal_lat_lim_strict, verbose=verbose)"
   ]
  },
  {
   "cell_type": "code",
   "execution_count": 8,
   "id": "b5453b0b-d797-4341-bec4-9a5a978ee67a",
   "metadata": {},
   "outputs": [],
   "source": [
    "n_fields['description'].append('+ Strict Gal. lat. lim.')\n",
    "n_fields['n_fields'].append(len(grid))"
   ]
  },
  {
   "cell_type": "markdown",
   "id": "e752e717-7408-48ff-9f29-27f477f3fcf8",
   "metadata": {},
   "source": [
    "Add E-W overlap of 10 arcsec and activate strict Galactic latitude limit:"
   ]
  },
  {
   "cell_type": "code",
   "execution_count": 9,
   "id": "bc333c3f-f237-4bd7-9a67-a9f2da97e1c2",
   "metadata": {},
   "outputs": [
    {
     "name": "stdout",
     "output_type": "stream",
     "text": [
      "Create fields..\n",
      "  Calculate field centers..\n",
      "  Calculate field corners..\n",
      "    Done                                                    \n",
      "  Identify fields in Galactic plane..\n",
      "Final number of fields: 83685\n"
     ]
    }
   ],
   "source": [
    "fov = Angle(30 * u.arcmin)\n",
    "overlap_ns = Angle(fov / 2.)\n",
    "overlap_ew = Angle(10 * u.arcsec)\n",
    "tilt = Angle(0 * u.deg)\n",
    "dec_lim_north = Angle(90 * u.deg)\n",
    "dec_lim_south = Angle(0 * u.deg)\n",
    "gal_lat_lim = Angle(30 * u.deg)\n",
    "gal_lat_lim_strict = True\n",
    "verbose = 1\n",
    "\n",
    "grid = FieldGridIsoLat(\n",
    "        fov.rad, overlap_ns=overlap_ns.rad, overlap_ew=overlap_ew.rad, tilt=tilt.rad, dec_lim_north=dec_lim_north.rad, \n",
    "        dec_lim_south=dec_lim_south.rad, gal_lat_lim=gal_lat_lim.rad, gal_lat_lim_strict=gal_lat_lim_strict, verbose=verbose)"
   ]
  },
  {
   "cell_type": "code",
   "execution_count": 10,
   "id": "f4422544-c4a0-4d59-8ca1-e5ae4c3a6e08",
   "metadata": {},
   "outputs": [],
   "source": [
    "n_fields['description'].append('+ 10\" E-W-overlap + Strict Gal. lat. lim.')\n",
    "n_fields['n_fields'].append(len(grid))"
   ]
  },
  {
   "cell_type": "code",
   "execution_count": 11,
   "id": "f191eebd-f75e-4fbe-9e45-bfdf37b864a1",
   "metadata": {},
   "outputs": [
    {
     "data": {
      "text/html": [
       "<div>\n",
       "<style scoped>\n",
       "    .dataframe tbody tr th:only-of-type {\n",
       "        vertical-align: middle;\n",
       "    }\n",
       "\n",
       "    .dataframe tbody tr th {\n",
       "        vertical-align: top;\n",
       "    }\n",
       "\n",
       "    .dataframe thead th {\n",
       "        text-align: right;\n",
       "    }\n",
       "</style>\n",
       "<table border=\"1\" class=\"dataframe\">\n",
       "  <thead>\n",
       "    <tr style=\"text-align: right;\">\n",
       "      <th></th>\n",
       "      <th>description</th>\n",
       "      <th>n_fields</th>\n",
       "      <th>n_plus</th>\n",
       "      <th>factor (%)</th>\n",
       "    </tr>\n",
       "  </thead>\n",
       "  <tbody>\n",
       "    <tr>\n",
       "      <th>0</th>\n",
       "      <td>basic</td>\n",
       "      <td>82664</td>\n",
       "      <td>0</td>\n",
       "      <td>0.000000</td>\n",
       "    </tr>\n",
       "    <tr>\n",
       "      <th>1</th>\n",
       "      <td>+ 10\" E-W-overlap</td>\n",
       "      <td>82895</td>\n",
       "      <td>231</td>\n",
       "      <td>0.279444</td>\n",
       "    </tr>\n",
       "    <tr>\n",
       "      <th>2</th>\n",
       "      <td>+ Strict Gal. lat. lim.</td>\n",
       "      <td>83441</td>\n",
       "      <td>777</td>\n",
       "      <td>0.939950</td>\n",
       "    </tr>\n",
       "    <tr>\n",
       "      <th>3</th>\n",
       "      <td>+ 10\" E-W-overlap + Strict Gal. lat. lim.</td>\n",
       "      <td>83685</td>\n",
       "      <td>1021</td>\n",
       "      <td>1.235120</td>\n",
       "    </tr>\n",
       "  </tbody>\n",
       "</table>\n",
       "</div>"
      ],
      "text/plain": [
       "                                 description  n_fields  n_plus  factor (%)\n",
       "0                                      basic     82664       0    0.000000\n",
       "1                          + 10\" E-W-overlap     82895     231    0.279444\n",
       "2                    + Strict Gal. lat. lim.     83441     777    0.939950\n",
       "3  + 10\" E-W-overlap + Strict Gal. lat. lim.     83685    1021    1.235120"
      ]
     },
     "execution_count": 11,
     "metadata": {},
     "output_type": "execute_result"
    }
   ],
   "source": [
    "n_fields = pd.DataFrame(n_fields)\n",
    "n_fields['n_plus'] = n_fields['n_fields'] - n_fields.iloc[0]['n_fields']\n",
    "n_fields['factor (%)'] = n_fields['n_plus'] / n_fields.iloc[0]['n_fields'] * 100\n",
    "n_fields"
   ]
  },
  {
   "cell_type": "markdown",
   "id": "b5fd0140-6e84-4aaf-99d1-827cd075e73a",
   "metadata": {},
   "source": [
    "## Southern Grid"
   ]
  },
  {
   "cell_type": "code",
   "execution_count": 12,
   "id": "d0c7faa7-0fc4-4a5d-8f2b-782ef0563609",
   "metadata": {},
   "outputs": [],
   "source": [
    "n_fields = {'description': [], 'n_fields': []}"
   ]
  },
  {
   "cell_type": "markdown",
   "id": "b2d3fd77-3cd0-49d8-b604-1fdaf091246e",
   "metadata": {},
   "source": [
    "Minimal grid setup:"
   ]
  },
  {
   "cell_type": "code",
   "execution_count": 13,
   "id": "a842a964-2f3b-4374-ad5d-1ea709fea948",
   "metadata": {},
   "outputs": [
    {
     "name": "stdout",
     "output_type": "stream",
     "text": [
      "Create fields..\n",
      "  Calculate field centers..\n",
      "  Calculate field corners..\n",
      "    Done                                                    \n",
      "  Identify fields in Galactic plane..\n",
      "Final number of fields: 60825\n"
     ]
    }
   ],
   "source": [
    "fov = Angle(35 * u.arcmin)\n",
    "overlap_ns = Angle(fov / 2.)\n",
    "overlap_ew = Angle(0 * u.arcsec)\n",
    "tilt = Angle(0 * u.deg)\n",
    "dec_lim_north = Angle(0 * u.deg)\n",
    "dec_lim_south = Angle(-90 * u.deg)\n",
    "gal_lat_lim = Angle(30 * u.deg)\n",
    "gal_lat_lim_strict = False\n",
    "verbose = 1\n",
    "\n",
    "grid = FieldGridIsoLat(\n",
    "        fov.rad, overlap_ns=overlap_ns.rad, overlap_ew=overlap_ew.rad, tilt=tilt.rad, dec_lim_north=dec_lim_north.rad, \n",
    "        dec_lim_south=dec_lim_south.rad, gal_lat_lim=gal_lat_lim.rad, gal_lat_lim_strict=gal_lat_lim_strict, verbose=verbose)"
   ]
  },
  {
   "cell_type": "code",
   "execution_count": 14,
   "id": "4fce6225-a223-49b3-b93b-b4e41e36cac6",
   "metadata": {},
   "outputs": [],
   "source": [
    "n_fields['description'].append('basic')\n",
    "n_fields['n_fields'].append(len(grid))"
   ]
  },
  {
   "cell_type": "markdown",
   "id": "164893d7-355e-4e4e-93ed-5bd90c0770fc",
   "metadata": {},
   "source": [
    "Add E-W overlap of 10 arcsec:"
   ]
  },
  {
   "cell_type": "code",
   "execution_count": 15,
   "id": "495e7d34-aa0e-41dc-9ad3-428aef90f981",
   "metadata": {},
   "outputs": [
    {
     "name": "stdout",
     "output_type": "stream",
     "text": [
      "Create fields..\n",
      "  Calculate field centers..\n",
      "  Calculate field corners..\n",
      "    Done                                                    \n",
      "  Identify fields in Galactic plane..\n",
      "Final number of fields: 60953\n"
     ]
    }
   ],
   "source": [
    "fov = Angle(35 * u.arcmin)\n",
    "overlap_ns = Angle(fov / 2.)\n",
    "overlap_ew = Angle(10 * u.arcsec)\n",
    "tilt = Angle(0 * u.deg)\n",
    "dec_lim_north = Angle(0 * u.deg)\n",
    "dec_lim_south = Angle(-90 * u.deg)\n",
    "gal_lat_lim = Angle(30 * u.deg)\n",
    "gal_lat_lim_strict = False\n",
    "verbose = 1\n",
    "\n",
    "grid = FieldGridIsoLat(\n",
    "        fov.rad, overlap_ns=overlap_ns.rad, overlap_ew=overlap_ew.rad, tilt=tilt.rad, dec_lim_north=dec_lim_north.rad, \n",
    "        dec_lim_south=dec_lim_south.rad, gal_lat_lim=gal_lat_lim.rad, gal_lat_lim_strict=gal_lat_lim_strict, verbose=verbose)"
   ]
  },
  {
   "cell_type": "code",
   "execution_count": 16,
   "id": "8d4099da-6a39-4379-afa5-ccdfa8640ad2",
   "metadata": {},
   "outputs": [],
   "source": [
    "n_fields['description'].append('+ 10\" E-W-overlap')\n",
    "n_fields['n_fields'].append(len(grid))"
   ]
  },
  {
   "cell_type": "markdown",
   "id": "fce67bec-1f4d-4464-9e16-a24ced06fad4",
   "metadata": {},
   "source": [
    "Activate strict Galactic latitude limit:"
   ]
  },
  {
   "cell_type": "code",
   "execution_count": 17,
   "id": "76bfdcf2-45ba-484f-9b27-20a48dc91111",
   "metadata": {},
   "outputs": [
    {
     "name": "stdout",
     "output_type": "stream",
     "text": [
      "Create fields..\n",
      "  Calculate field centers..\n",
      "  Calculate field corners..\n",
      "    Done                                                    \n",
      "  Identify fields in Galactic plane..\n",
      "Final number of fields: 61503\n"
     ]
    }
   ],
   "source": [
    "fov = Angle(35 * u.arcmin)\n",
    "overlap_ns = Angle(fov / 2.)\n",
    "overlap_ew = Angle(0 * u.arcsec)\n",
    "tilt = Angle(0 * u.deg)\n",
    "dec_lim_north = Angle(0 * u.deg)\n",
    "dec_lim_south = Angle(-90 * u.deg)\n",
    "gal_lat_lim = Angle(30 * u.deg)\n",
    "gal_lat_lim_strict = True\n",
    "verbose = 1\n",
    "\n",
    "grid = FieldGridIsoLat(\n",
    "        fov.rad, overlap_ns=overlap_ns.rad, overlap_ew=overlap_ew.rad, tilt=tilt.rad, dec_lim_north=dec_lim_north.rad, \n",
    "        dec_lim_south=dec_lim_south.rad, gal_lat_lim=gal_lat_lim.rad, gal_lat_lim_strict=gal_lat_lim_strict, verbose=verbose)"
   ]
  },
  {
   "cell_type": "code",
   "execution_count": 18,
   "id": "56bd1c5d-80ec-4861-b9c8-e2ab5239ea76",
   "metadata": {},
   "outputs": [],
   "source": [
    "n_fields['description'].append('+ Strict Gal. lat. lim.')\n",
    "n_fields['n_fields'].append(len(grid))"
   ]
  },
  {
   "cell_type": "markdown",
   "id": "f2d7e1f5-a5ad-440c-8020-d7839b13b84e",
   "metadata": {},
   "source": [
    "Add E-W overlap of 10 arcsec and activate strict Galactic latitude limit:"
   ]
  },
  {
   "cell_type": "code",
   "execution_count": 19,
   "id": "294abe0f-b73b-448d-ae92-2fa1e1d17483",
   "metadata": {},
   "outputs": [
    {
     "name": "stdout",
     "output_type": "stream",
     "text": [
      "Create fields..\n",
      "  Calculate field centers..\n",
      "  Calculate field corners..\n",
      "    Done                                                    \n",
      "  Identify fields in Galactic plane..\n",
      "Final number of fields: 61630\n"
     ]
    }
   ],
   "source": [
    "fov = Angle(35 * u.arcmin)\n",
    "overlap_ns = Angle(fov / 2.)\n",
    "overlap_ew = Angle(10 * u.arcsec)\n",
    "tilt = Angle(0 * u.deg)\n",
    "dec_lim_north = Angle(0 * u.deg)\n",
    "dec_lim_south = Angle(-90 * u.deg)\n",
    "gal_lat_lim = Angle(30 * u.deg)\n",
    "gal_lat_lim_strict = True\n",
    "verbose = 1\n",
    "\n",
    "grid = FieldGridIsoLat(\n",
    "        fov.rad, overlap_ns=overlap_ns.rad, overlap_ew=overlap_ew.rad, tilt=tilt.rad, dec_lim_north=dec_lim_north.rad, \n",
    "        dec_lim_south=dec_lim_south.rad, gal_lat_lim=gal_lat_lim.rad, gal_lat_lim_strict=gal_lat_lim_strict, verbose=verbose)"
   ]
  },
  {
   "cell_type": "code",
   "execution_count": 20,
   "id": "6ba14cd7-bb96-48a2-b454-fbfe90e3b154",
   "metadata": {},
   "outputs": [],
   "source": [
    "n_fields['description'].append('+ 10\" E-W-overlap + Strict Gal. lat. lim.')\n",
    "n_fields['n_fields'].append(len(grid))"
   ]
  },
  {
   "cell_type": "code",
   "execution_count": 21,
   "id": "6bed7d48-725e-4190-a097-95939c6d804d",
   "metadata": {},
   "outputs": [
    {
     "data": {
      "text/html": [
       "<div>\n",
       "<style scoped>\n",
       "    .dataframe tbody tr th:only-of-type {\n",
       "        vertical-align: middle;\n",
       "    }\n",
       "\n",
       "    .dataframe tbody tr th {\n",
       "        vertical-align: top;\n",
       "    }\n",
       "\n",
       "    .dataframe thead th {\n",
       "        text-align: right;\n",
       "    }\n",
       "</style>\n",
       "<table border=\"1\" class=\"dataframe\">\n",
       "  <thead>\n",
       "    <tr style=\"text-align: right;\">\n",
       "      <th></th>\n",
       "      <th>description</th>\n",
       "      <th>n_fields</th>\n",
       "      <th>n_plus</th>\n",
       "      <th>factor (%)</th>\n",
       "    </tr>\n",
       "  </thead>\n",
       "  <tbody>\n",
       "    <tr>\n",
       "      <th>0</th>\n",
       "      <td>basic</td>\n",
       "      <td>60825</td>\n",
       "      <td>0</td>\n",
       "      <td>0.000000</td>\n",
       "    </tr>\n",
       "    <tr>\n",
       "      <th>1</th>\n",
       "      <td>+ 10\" E-W-overlap</td>\n",
       "      <td>60953</td>\n",
       "      <td>128</td>\n",
       "      <td>0.210440</td>\n",
       "    </tr>\n",
       "    <tr>\n",
       "      <th>2</th>\n",
       "      <td>+ Strict Gal. lat. lim.</td>\n",
       "      <td>61503</td>\n",
       "      <td>678</td>\n",
       "      <td>1.114673</td>\n",
       "    </tr>\n",
       "    <tr>\n",
       "      <th>3</th>\n",
       "      <td>+ 10\" E-W-overlap + Strict Gal. lat. lim.</td>\n",
       "      <td>61630</td>\n",
       "      <td>805</td>\n",
       "      <td>1.323469</td>\n",
       "    </tr>\n",
       "  </tbody>\n",
       "</table>\n",
       "</div>"
      ],
      "text/plain": [
       "                                 description  n_fields  n_plus  factor (%)\n",
       "0                                      basic     60825       0    0.000000\n",
       "1                          + 10\" E-W-overlap     60953     128    0.210440\n",
       "2                    + Strict Gal. lat. lim.     61503     678    1.114673\n",
       "3  + 10\" E-W-overlap + Strict Gal. lat. lim.     61630     805    1.323469"
      ]
     },
     "execution_count": 21,
     "metadata": {},
     "output_type": "execute_result"
    }
   ],
   "source": [
    "n_fields = pd.DataFrame(n_fields)\n",
    "n_fields['n_plus'] = n_fields['n_fields'] - n_fields.iloc[0]['n_fields']\n",
    "n_fields['factor (%)'] = n_fields['n_plus'] / n_fields.iloc[0]['n_fields'] * 100\n",
    "n_fields"
   ]
  },
  {
   "cell_type": "code",
   "execution_count": null,
   "id": "cff26f88-9ca3-4f4c-befa-9e4146748a00",
   "metadata": {},
   "outputs": [],
   "source": []
  }
 ],
 "metadata": {
  "kernelspec": {
   "display_name": "Python 3 (ipykernel)",
   "language": "python",
   "name": "python3"
  },
  "language_info": {
   "codemirror_mode": {
    "name": "ipython",
    "version": 3
   },
   "file_extension": ".py",
   "mimetype": "text/x-python",
   "name": "python",
   "nbconvert_exporter": "python",
   "pygments_lexer": "ipython3",
   "version": "3.9.18"
  }
 },
 "nbformat": 4,
 "nbformat_minor": 5
}
