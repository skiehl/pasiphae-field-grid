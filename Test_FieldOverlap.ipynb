{
 "cells": [
  {
   "cell_type": "markdown",
   "id": "797a4ea8-53bc-4d7b-9cb8-c24c7c484299",
   "metadata": {},
   "source": [
    "# Grid tests with Gaia sources"
   ]
  },
  {
   "cell_type": "markdown",
   "id": "6b84d6cd-5590-4974-841b-d7d5e32fc975",
   "metadata": {},
   "source": [
    "**Aim of this notebook:** Determine how many Gaia sources down to a certain magnitude limit (14 mag) are located inside the overlapping field regions given a preset overlap.\n",
    "\n",
    "**Relation to other notebooks:** I am testing the *isolatitudinal grid* that I developed in `Develop_FieldGrid.ipynb`. General tests of this grid (like ensuring no gaps) that do not relate specifically to the specifications of the Pasiphae survey were performed in `Test_FieldGrid.ipynb`."
   ]
  },
  {
   "cell_type": "code",
   "execution_count": 1,
   "id": "bdf42efd-19e3-4596-8aeb-b9b5bd7bdd75",
   "metadata": {
    "slideshow": {
     "slide_type": "skip"
    },
    "tags": []
   },
   "outputs": [],
   "source": [
    "%load_ext autoreload\n",
    "%autoreload 2"
   ]
  },
  {
   "cell_type": "code",
   "execution_count": 2,
   "id": "a2ba9807-a904-4963-966b-619ac87dabd4",
   "metadata": {},
   "outputs": [],
   "source": [
    "from astropy.coordinates import Angle, SkyCoord\n",
    "from astropy.io.votable import parse\n",
    "from astropy.time import Time\n",
    "import astropy.units as u\n",
    "from itertools import combinations\n",
    "import matplotlib.pyplot as plt\n",
    "import numpy as np\n",
    "import os\n",
    "import pandas as pd\n",
    "import seaborn as sns\n",
    "import sqlite3\n",
    "\n",
    "import fieldgrid"
   ]
  },
  {
   "cell_type": "markdown",
   "id": "a4b1a1b8-2cc2-4b86-915a-4d7159487e78",
   "metadata": {},
   "source": [
    "## Create initial databases for tests"
   ]
  },
  {
   "cell_type": "markdown",
   "id": "896a5edb-3ed5-4101-8ad1-2ef6a301d2dd",
   "metadata": {},
   "source": [
    "### Helper classes"
   ]
  },
  {
   "cell_type": "code",
   "execution_count": 3,
   "id": "9fc54d2c-0562-4c21-bc98-fc2dd4721ae2",
   "metadata": {},
   "outputs": [],
   "source": [
    "class SQLiteConnection:\n",
    "    \"\"\"Wrapper class for SQLite connection that allows the use of the\n",
    "    python with-statement.\"\"\"\n",
    "\n",
    "    def __init__(self, db_file):\n",
    "        \"\"\"Create SQLiteConnection instance.\n",
    "\n",
    "        Parameters\n",
    "        ----------\n",
    "        db_file : str\n",
    "            SQLite3 database file name.\n",
    "\n",
    "        Returns\n",
    "        -------\n",
    "        None\n",
    "        \"\"\"\n",
    "\n",
    "        self.db_file = db_file\n",
    "\n",
    "    def __enter__(self):\n",
    "        \"\"\"Open database connection and return it.\n",
    "\n",
    "        Returns\n",
    "        -------\n",
    "        sqlite3.Connection\n",
    "            Open database connection.\n",
    "        \"\"\"\n",
    "\n",
    "        self.connection = sqlite3.connect(self.db_file)\n",
    "\n",
    "        return self.connection\n",
    "\n",
    "    def __exit__(self, type, value, traceback):\n",
    "        \"\"\"Close database connection.\n",
    "\n",
    "        Returns\n",
    "        -------\n",
    "        None\n",
    "        \"\"\"\n",
    "\n",
    "        self.connection.close()"
   ]
  },
  {
   "cell_type": "code",
   "execution_count": 4,
   "id": "c0a487ef-9175-4e83-9d1a-48d60ed732f9",
   "metadata": {},
   "outputs": [],
   "source": [
    "class DBConnectorSQLite:\n",
    "    \"\"\"SQLite database connector.\"\"\"\n",
    "\n",
    "    #--------------------------------------------------------------------------\n",
    "    def __init__(self, db_file):\n",
    "        \"\"\"Create DBConnectorSQLite instance.\n",
    "\n",
    "        Parameters\n",
    "        ----------\n",
    "        db_file : str\n",
    "            SQLite3 database file name.\n",
    "\n",
    "        Returns\n",
    "        -------\n",
    "        None\n",
    "        \"\"\"\n",
    "\n",
    "        self.db_file = db_file\n",
    "\n",
    "    #--------------------------------------------------------------------------\n",
    "    def _query(self, connection, query, many=False, commit=False):\n",
    "        \"\"\"Query the database.\n",
    "\n",
    "        Parameters\n",
    "        ----------\n",
    "        connection : sqlite3.Connection\n",
    "            The database connection.\n",
    "        query : str\n",
    "            SQL query.\n",
    "        many : list, optional\n",
    "            List of data to add in a single commit. The default is False.\n",
    "        commit : bool, optional\n",
    "            Set True to commit to database. The default is False.\n",
    "\n",
    "        Returns\n",
    "        -------\n",
    "        result : sqlite3.Cursor\n",
    "            Query results.\n",
    "        \"\"\"\n",
    "\n",
    "        cursor = connection.cursor()\n",
    "        if many is False:\n",
    "            result = cursor.execute(query)\n",
    "        else:\n",
    "            result = cursor.executemany(query, many)\n",
    "\n",
    "        if commit:\n",
    "            connection.commit()\n",
    "\n",
    "        return result\n",
    "            \n",
    "    #--------------------------------------------------------------------------   \n",
    "    def query(self, query, many=False, commit=False):\n",
    "        \n",
    "        # add to data base:\n",
    "        with SQLiteConnection(self.db_file) as connection:\n",
    "\n",
    "            return self._query(connection, query, many=many, commit=commit).fetchall()\n",
    "    \n",
    "    #--------------------------------------------------------------------------\n",
    "    def create_db(self):\n",
    "        \"\"\"Create sqlite3 database.\n",
    "\n",
    "        Returns\n",
    "        -------\n",
    "        None\n",
    "        \"\"\"\n",
    "\n",
    "        create = False\n",
    "\n",
    "        # check if file exists:\n",
    "        if os.path.exists(self.db_file):\n",
    "            answer = input(\n",
    "                'Database file exists. Overwrite (y) or cancel (enter)?')\n",
    "\n",
    "            if answer.lower() in ['y', 'yes', 'make it so!']:\n",
    "                os.system(f'rm {self.db_file}')\n",
    "                create = True\n",
    "            else:\n",
    "                print('Doing nothing.')\n",
    "\n",
    "        else:\n",
    "            create = True\n",
    "            \n",
    "        if not create:\n",
    "            return None\n",
    "\n",
    "        # create file:\n",
    "        os.system(f'sqlite3 {self.db_file}')\n",
    "\n",
    "        print(f\"Database '{self.db_file}' created.\")\n",
    "\n",
    "        # create tables:\n",
    "        with SQLiteConnection(self.db_file) as connection:\n",
    "\n",
    "            # create Fields table:\n",
    "            query = \"\"\"\\\n",
    "                CREATE TABLE Fields(\n",
    "                    field_id integer PRIMARY KEY,\n",
    "                    center_ra float,\n",
    "                    center_dec float)\n",
    "                \"\"\"\n",
    "            self._query(connection, query, commit=True)\n",
    "            print(\"Table 'Fields' created.\")\n",
    "\n",
    "            # create Sources table:\n",
    "            query = \"\"\"\\\n",
    "                CREATE TABLE Sources(\n",
    "                    source_id integer PRIMARY KEY,\n",
    "                    gaia_id integer,\n",
    "                    ra float,\n",
    "                    dec float,\n",
    "                    mag float)\n",
    "                \"\"\"\n",
    "            self._query(connection, query, commit=True)\n",
    "            print(\"Table 'Sources' created.\")\n",
    "\n",
    "            # create FieldAssoc table:\n",
    "            query = \"\"\"\\\n",
    "                CREATE TABLE FieldAssoc(\n",
    "                    assoc_id integer PRIMARY KEY,\n",
    "                    source_id integer,\n",
    "                    field_id integer)\n",
    "                \"\"\"\n",
    "            self._query(connection, query, commit=True)\n",
    "            print(\"Table 'FieldAssoc' created.\")\n",
    "\n",
    "            # create OverlappingFields table:\n",
    "            query = \"\"\"\\\n",
    "                CREATE TABLE OverlappingFields(\n",
    "                    pair_id integer PRIMARY KEY,\n",
    "                    field1_id integer,\n",
    "                    field2_id integer,\n",
    "                    n_sources integer)\n",
    "                \"\"\"\n",
    "            self._query(connection, query, commit=True)\n",
    "            print(\"Table 'OverlappingFields' created.\")\n",
    "            \n",
    "    #--------------------------------------------------------------------------   \n",
    "    def add_fields(self, grid):\n",
    "        query = \"\"\"\\\n",
    "            INSERT INTO Fields (\n",
    "                center_ra, center_dec)\n",
    "            VALUES (?, ?);\n",
    "            \"\"\"\n",
    "        \n",
    "        data = [(float(ra), float(dec)) for ra, dec in zip(grid.center_ras, grid.center_decs)]\n",
    "        \n",
    "        # add to data base:\n",
    "        with SQLiteConnection(self.db_file) as connection:\n",
    "            self._query(connection, query, many=data, commit=True)\n",
    "\n",
    "        print(f\"{len(data)} fields added to data base.\")\n",
    "            \n",
    "    #--------------------------------------------------------------------------   \n",
    "    def add_sources(self, data):\n",
    "        query = \"\"\"\\\n",
    "            INSERT INTO Sources (\n",
    "                gaia_id, ra, dec, mag)\n",
    "            VALUES (?, ?, ?, ?);\n",
    "            \"\"\"\n",
    "        \n",
    "        # add to data base:\n",
    "        with SQLiteConnection(self.db_file) as connection:\n",
    "            self._query(connection, query, many=data, commit=True)\n",
    "\n",
    "        print(f\"{len(data)} sources added to data base.\")\n",
    "            \n",
    "    #--------------------------------------------------------------------------  \n",
    "    def n_sources(self):\n",
    "        query = \"\"\"\\\n",
    "                SELECT MAX(source_id) FROM Sources;\"\"\"\n",
    "        return self.query(query)[0][0]\n",
    "            \n",
    "    #--------------------------------------------------------------------------   \n",
    "    def add_associations(self, data):\n",
    "        query = \"\"\"\\\n",
    "            INSERT INTO FieldAssoc (\n",
    "                source_id, field_id)\n",
    "            VALUES (?, ?);\n",
    "            \"\"\"\n",
    "        \n",
    "        # add to data base:\n",
    "        with SQLiteConnection(self.db_file) as connection:\n",
    "            self._query(connection, query, many=data, commit=True)\n",
    "\n",
    "        print(f\"{len(data)} associations added to data base.\")\n",
    "            \n",
    "    #--------------------------------------------------------------------------   \n",
    "    def add_overlapping_fields(self, data):\n",
    "        query = \"\"\"\\\n",
    "            INSERT INTO OverlappingFields (\n",
    "                field1_id, field2_id, n_sources)\n",
    "            VALUES (?, ?, ?);\n",
    "            \"\"\"\n",
    "        \n",
    "        # add to data base:\n",
    "        with SQLiteConnection(self.db_file) as connection:\n",
    "            self._query(connection, query, many=data, commit=True)\n",
    "\n",
    "        print(f\"{len(data)} field pairs added to data base.\")\n",
    "            \n",
    "    #--------------------------------------------------------------------------  \n",
    "    def n_fields(self):\n",
    "        query = \"\"\"\\\n",
    "                SELECT MAX(field_id) FROM Fields;\"\"\"\n",
    "        return self.query(query)[0][0]"
   ]
  },
  {
   "cell_type": "markdown",
   "id": "356992d3-eec9-4f44-a63a-35616e332e7a",
   "metadata": {},
   "source": [
    "### Set up initial test databases"
   ]
  },
  {
   "cell_type": "markdown",
   "id": "310909fa-8ee1-44d4-abe2-7e5749d2b021",
   "metadata": {},
   "source": [
    "Create initial databases for the North and South:"
   ]
  },
  {
   "cell_type": "code",
   "execution_count": 5,
   "id": "913d5cb5-14fb-4b7f-a371-10e829b00097",
   "metadata": {},
   "outputs": [
    {
     "name": "stdin",
     "output_type": "stream",
     "text": [
      "Database file exists. Overwrite (y) or cancel (enter)? n\n"
     ]
    },
    {
     "name": "stdout",
     "output_type": "stream",
     "text": [
      "Doing nothing.\n"
     ]
    },
    {
     "name": "stdin",
     "output_type": "stream",
     "text": [
      "Database file exists. Overwrite (y) or cancel (enter)? n\n"
     ]
    },
    {
     "name": "stdout",
     "output_type": "stream",
     "text": [
      "Doing nothing.\n"
     ]
    }
   ],
   "source": [
    "db_north = DBConnectorSQLite('gridtests/test_north_init.sqlite3')\n",
    "db_north.create_db()\n",
    "db_south = DBConnectorSQLite('gridtests/test_south_init.sqlite3')\n",
    "db_south.create_db()"
   ]
  },
  {
   "cell_type": "markdown",
   "id": "8daef36c-8576-47d7-a8fd-aa5a3efb25b6",
   "metadata": {},
   "source": [
    "Iterate through VOTable files and add sources to database:"
   ]
  },
  {
   "cell_type": "code",
   "execution_count": null,
   "id": "fa9bfdf6-5b37-49ed-9b03-c5abc4dc7968",
   "metadata": {},
   "outputs": [],
   "source": [
    "dir_in = 'gaia/'\n",
    "votable_files = ['mag10_b28', 'mag10-11_b28', 'mag11-12_b28', 'mag12-13_b28', 'mag13-14_b28']\n",
    "\n",
    "for i, filename in enumerate(votable_files, start=1):\n",
    "    print(f'VOTable {i}/{len(votable_files)}..')\n",
    "    print('  Read table..')\n",
    "    votable = parse(os.path.join(dir_in, f'{filename}.vot'))\n",
    "    table = votable.get_first_table()\n",
    "    print('  Parse data..')\n",
    "    data_n = []\n",
    "    data_s = []\n",
    "    for (gaia_id, ra, dec, mag) in zip(\n",
    "            table.array['source_id'].data, np.radians(table.array['ra'].data),\n",
    "            np.radians(table.array['dec'].data), table.array['phot_rp_mean_mag'].data):\n",
    "        if dec >= 0:\n",
    "            data_n.append((int(gaia_id), ra, dec, float(mag)))\n",
    "        else:\n",
    "            data_s.append((int(gaia_id), ra, dec, float(mag)))\n",
    "    print('  Write to databases..')\n",
    "    db_north.add_sources(data_n)\n",
    "    db_south.add_sources(data_s)\n",
    "    del data_n, data_s"
   ]
  },
  {
   "cell_type": "code",
   "execution_count": 6,
   "id": "99b8c547-228b-4c9e-b4e8-212403e7ae99",
   "metadata": {},
   "outputs": [
    {
     "name": "stdout",
     "output_type": "stream",
     "text": [
      "Sources North: 2305300\n",
      "Sources South: 2681858\n",
      "Total:         4987158\n"
     ]
    }
   ],
   "source": [
    "n_sources_n = db_north.n_sources()\n",
    "n_sources_s = db_south.n_sources()\n",
    "print(f'Sources North: {n_sources_n:6d}')\n",
    "print(f'Sources South: {n_sources_s:6d}')\n",
    "print(f'Total:         {n_sources_n+n_sources_s:6d}')"
   ]
  },
  {
   "cell_type": "markdown",
   "id": "4e513ef1-9337-415b-a48a-9f4668adb8c1",
   "metadata": {},
   "source": [
    "## Test setup"
   ]
  },
  {
   "cell_type": "markdown",
   "id": "c3c779e5-7d91-4c8a-9f6e-e238248f5604",
   "metadata": {},
   "source": [
    "### Helper functions\n",
    "\n",
    "Helper functions to find and store the field associations:"
   ]
  },
  {
   "cell_type": "code",
   "execution_count": 5,
   "id": "df64ac13-e31e-4e20-aaac-2d24ae6b86e3",
   "metadata": {},
   "outputs": [],
   "source": [
    "def get_coord(db, id_start, id_stop):\n",
    "    query = \"\"\"\\\n",
    "        SELECT ra, dec from Sources\n",
    "        WHERE source_id >= {0} AND source_id < {1}\n",
    "        \"\"\".format(id_start+1, id_stop+1)\n",
    "        # Note: SQL counts from 1\n",
    "    \n",
    "    results = np.array(db.query(query))\n",
    "    ra = results[:,0]\n",
    "    dec = results[:,1]\n",
    "    \n",
    "    return ra, dec"
   ]
  },
  {
   "cell_type": "code",
   "execution_count": 6,
   "id": "f8d6a8cc-2289-4285-bd29-7f182816c288",
   "metadata": {},
   "outputs": [],
   "source": [
    "def get_associations(tester, sources_ra, sources_dec):\n",
    "    tester.test(points_ra=sources_ra, points_dec=sources_dec)\n",
    "    associations = tester.get_results()['field_ids']\n",
    "    \n",
    "    return associations"
   ]
  },
  {
   "cell_type": "code",
   "execution_count": 7,
   "id": "37cccf79-6920-44b7-9979-4b3ef0bedbbb",
   "metadata": {},
   "outputs": [],
   "source": [
    "def parse_associations(db, sources_id, associations):\n",
    "    data = []\n",
    "    field_pairs = set()\n",
    "\n",
    "    for source_id, field_ids in zip(sources_id, associations):\n",
    "        for field_id in field_ids:\n",
    "            field_id += 1 # SQLite table starts counting with 1\n",
    "            data.append((int(source_id), int(field_id)))\n",
    "            \n",
    "        field_pairs.update(list(combinations(field_ids, 2)))\n",
    "    \n",
    "    return data, field_pairs"
   ]
  },
  {
   "cell_type": "code",
   "execution_count": 8,
   "id": "63c542ee-65af-4db5-8ecb-25302ffbc80c",
   "metadata": {},
   "outputs": [],
   "source": [
    "def count_sources_in_overlap(field1_id, field2_id):\n",
    "    field1_id += 1 # SQLite table starts counting with 1\n",
    "    field2_id += 1 # SQLite table starts counting with 1\n",
    "    query = \"\"\"\\\n",
    "        SELECT source_id, field_id\n",
    "        FROM FieldAssoc\n",
    "        WHERE field_id={0} OR field_id={1};\n",
    "        \"\"\".format(field1_id, field2_id)\n",
    "    results = db.query(query)\n",
    "    results = pd.DataFrame(results, columns=('source_id', 'field_id'))\n",
    "    count = int(np.sum(results.value_counts('source_id').values == 2))\n",
    "    \n",
    "    return field1_id, field2_id, count"
   ]
  },
  {
   "cell_type": "code",
   "execution_count": 9,
   "id": "c9502a29-7ebc-4d92-bba9-4b56fa3265d9",
   "metadata": {},
   "outputs": [],
   "source": [
    "def run_associations(db, n_batch=10000):\n",
    "    \n",
    "    n_batch = int(n_batch)\n",
    "    n_sources = db.n_sources()\n",
    "    n_iter = n_sources // n_batch + 1\n",
    "    print(f'Finding field associations of {n_sources} sources in {n_iter} batches of {n_batch} sources..')\n",
    "    field_pairs = set()\n",
    "    \n",
    "    for i in range(n_iter):\n",
    "        print(f'Batch {i+1} of {n_iter}..')\n",
    "        \n",
    "        # get coordinates of batch of sources:\n",
    "        i_start = i * n_batch\n",
    "        i_stop = i_start + n_batch\n",
    "        sources_ra, sources_dec = get_coord(db, i_start, i_stop)\n",
    "        sources_id = np.arange(i_start+1, i_stop+1)\n",
    "\n",
    "        # find associations and save them:\n",
    "        print('  ', end='')\n",
    "        associations = get_associations(tester, sources_ra, sources_dec)\n",
    "        print('  ', end='')\n",
    "        data, field_pairs_new = parse_associations(db, sources_id, associations)\n",
    "        field_pairs.update(field_pairs_new)\n",
    "\n",
    "        # add associations to database:\n",
    "        db.add_associations(data)\n",
    "    \n",
    "    # add overlapping fields to database:\n",
    "    n_field_pairs = len(field_pairs)\n",
    "    print(f'Iterate through {n_field_pairs} field pairs to count sources in overlapping region..')\n",
    "    field_pairs = sorted(field_pairs)\n",
    "    field_pairs_w_counts = []\n",
    "    \n",
    "    for i, (field1_id, field2_id) in enumerate(field_pairs):\n",
    "        print(f'\\r  Field pair {i+1} of {n_field_pairs} ({i*100./n_field_pairs:.0f}%)..', end='')\n",
    "        field_pairs_w_counts.append(count_sources_in_overlap(field1_id, field2_id))\n",
    "    \n",
    "    print('\\r  Done.                                             ')\n",
    "    db.add_overlapping_fields(field_pairs_w_counts)"
   ]
  },
  {
   "cell_type": "markdown",
   "id": "ab53e5af-11e8-4cc2-8fcd-8da38963a1ef",
   "metadata": {},
   "source": [
    "Helper functions for analysing the results:"
   ]
  },
  {
   "cell_type": "code",
   "execution_count": 10,
   "id": "e89dc963-8c92-4d4b-876b-96d97df42e27",
   "metadata": {},
   "outputs": [],
   "source": [
    "def count_sources_in_fields(db):\n",
    "    query = \"\"\"\\\n",
    "        SELECT a.field_id, f.center_ra, f.center_dec, a.n_sources\n",
    "        FROM (\n",
    "            SELECT field_id, COUNT(source_id) AS n_sources\n",
    "            FROM FieldAssoc\n",
    "            GROUP BY field_id) AS a\n",
    "        LEFT JOIN Fields AS f\n",
    "        ON a.field_id = f.field_id;\n",
    "        \"\"\"\n",
    "    results = db.query(query)\n",
    "    results = pd.DataFrame(results, columns=('field_id', 'field_ra', 'field_dec', 'n_sources'))\n",
    "\n",
    "    return results"
   ]
  },
  {
   "cell_type": "code",
   "execution_count": 11,
   "id": "a927a8f8-60db-4175-bb3a-92072a633b0c",
   "metadata": {},
   "outputs": [],
   "source": [
    "def get_overlapping_fields(db):\n",
    "    query = \"\"\"\\\n",
    "        SELECT j.field1_id, j.field2_id, j.n_sources, j.field1_ra, j.field1_dec, f2.center_ra AS field2_ra, f2.center_dec AS field2_dec\n",
    "        FROM (\n",
    "            SELECT o.field1_id, o.field2_id, o.n_sources, f1.center_ra AS field1_ra, f1.center_dec AS field1_dec\n",
    "            FROM OverlappingFields AS o\n",
    "            LEFT JOIN Fields AS f1\n",
    "            ON o.field1_id = f1.field_id) AS j\n",
    "        JOIN Fields AS f2\n",
    "        ON j.field2_id = f2.field_id;\n",
    "        \"\"\"\n",
    "    results = db.query(query)\n",
    "    results = pd.DataFrame(results, columns=('field1_id', 'field2_id', 'n_sources', 'field1_ra', 'field1_dec', 'field2_ra', 'field2_dec'))\n",
    "    results['delta_ra'] = results['field2_ra'] - results['field1_ra']\n",
    "    results['delta_dec'] = results['field2_dec'] - results['field1_dec']\n",
    "    results['same_dec'] = np.isclose(results['delta_dec'], 0)\n",
    "    declinations = results['field1_dec'].unique()\n",
    "    field1_dec_id = np.ones(results.shape[0], dtype=int)\n",
    "    field2_dec_id = np.ones(results.shape[0], dtype=int)\n",
    "\n",
    "    for i, dec in enumerate(declinations):\n",
    "        sel = results['field1_dec'] == dec\n",
    "        field1_dec_id[sel] = i\n",
    "        sel = results['field2_dec'] == dec\n",
    "        field2_dec_id[sel] = i\n",
    "\n",
    "    results.insert(5, 'field1_dec_id', field1_dec_id)\n",
    "    results.insert(8, 'field2_dec_id', field2_dec_id)\n",
    "    del declinations, field1_dec_id, field2_dec_id\n",
    "\n",
    "    return results"
   ]
  },
  {
   "cell_type": "markdown",
   "id": "dd685fd1-e3d7-4113-aaab-149c320a1e21",
   "metadata": {},
   "source": [
    "### Test source-field-association code\n",
    "\n",
    "Test my code with fewer sources and a coarse grid:"
   ]
  },
  {
   "cell_type": "code",
   "execution_count": 16,
   "id": "304b1e25-a602-4cab-9836-1f64f2adc2e8",
   "metadata": {},
   "outputs": [
    {
     "name": "stdin",
     "output_type": "stream",
     "text": [
      "Database file exists. Overwrite (y) or cancel (enter)? y\n"
     ]
    },
    {
     "name": "stdout",
     "output_type": "stream",
     "text": [
      "Database 'gridtests/test_init.sqlite3' created.\n",
      "Table 'Fields' created.\n",
      "Table 'Sources' created.\n",
      "Table 'FieldAssoc' created.\n",
      "Table 'OverlappingFields' created.\n"
     ]
    }
   ],
   "source": [
    "db_north = DBConnectorSQLite('gridtests/test_init.sqlite3')\n",
    "db_north.create_db()"
   ]
  },
  {
   "cell_type": "code",
   "execution_count": 17,
   "id": "d73c4952-4d3d-472f-83ac-404020dbad73",
   "metadata": {},
   "outputs": [
    {
     "name": "stdout",
     "output_type": "stream",
     "text": [
      "VOTable 1/2..\n",
      "  Read table..\n",
      "  Parse data..\n",
      "  Write to databases..\n",
      "120299 sources added to data base.\n",
      "VOTable 2/2..\n",
      "  Read table..\n",
      "  Parse data..\n",
      "  Write to databases..\n",
      "144501 sources added to data base.\n"
     ]
    }
   ],
   "source": [
    "dir_in = 'gaia/'\n",
    "votable_files = ['mag10_b28', 'mag10-11_b28']\n",
    "\n",
    "for i, filename in enumerate(votable_files, start=1):\n",
    "    print(f'VOTable {i}/{len(votable_files)}..')\n",
    "    print('  Read table..')\n",
    "    votable = parse(os.path.join(dir_in, f'{filename}.vot'))\n",
    "    table = votable.get_first_table()\n",
    "    print('  Parse data..')\n",
    "    data_n = []\n",
    "    for (gaia_id, ra, dec, mag) in zip(\n",
    "            table.array['source_id'].data, np.radians(table.array['ra'].data),\n",
    "            np.radians(table.array['dec'].data), table.array['phot_rp_mean_mag'].data):\n",
    "        if dec >= 0:\n",
    "            data_n.append((int(gaia_id), ra, dec, float(mag)))\n",
    "        else:\n",
    "            pass\n",
    "    print('  Write to databases..')\n",
    "    db_north.add_sources(data_n)\n",
    "    del data_n"
   ]
  },
  {
   "cell_type": "code",
   "execution_count": 19,
   "id": "5d167b44-f452-4e6b-9f46-aff4bda65718",
   "metadata": {
    "slideshow": {
     "slide_type": "fragment"
    },
    "tags": []
   },
   "outputs": [
    {
     "name": "stdout",
     "output_type": "stream",
     "text": [
      "Create fields..\n",
      "  Calculate field centers..\n",
      "  Calculate field corners..\n",
      "    Done                                                    \n",
      "  Identify fields in Galactic plane..\n",
      "Final number of fields: 720\n"
     ]
    }
   ],
   "source": [
    "fov = Angle(5. * u.deg)\n",
    "overlap = Angle(1. * u.deg)\n",
    "tilt = Angle(0.* u.deg)\n",
    "dec_lim_north = Angle(90. * u.deg)\n",
    "dec_lim_south = Angle(0. * u.deg)\n",
    "gal_lat_lim = Angle(30. * u.deg)\n",
    "gal_lat_lim_strict = True\n",
    "verbose = 1\n",
    "\n",
    "grid = fieldgrid.FieldGridIsoLat(\n",
    "        fov.rad, overlap=overlap.rad, tilt=tilt.rad, dec_lim_north=dec_lim_north.rad, dec_lim_south=dec_lim_south.rad,\n",
    "        gal_lat_lim=gal_lat_lim.rad, gal_lat_lim_strict=gal_lat_lim_strict, \n",
    "        verbose=verbose)"
   ]
  },
  {
   "cell_type": "code",
   "execution_count": 20,
   "id": "cd884dab-9c2a-46fe-be8b-2e2c324d0bdf",
   "metadata": {},
   "outputs": [],
   "source": [
    "tester = fieldgrid.FieldGridTester(grid)"
   ]
  },
  {
   "cell_type": "code",
   "execution_count": 21,
   "id": "cacd6daf-8449-4382-8cb4-826baf27d591",
   "metadata": {},
   "outputs": [
    {
     "name": "stdout",
     "output_type": "stream",
     "text": [
      "720 fields added to data base.\n",
      "Finding field associations of 264800 sources in 2 batches of 150000 sources..\n",
      "Batch 1 of 2..\n",
      "  Identify test point field associations..\n",
      "  Done.                                          \n",
      "  230286 associations added to data base.\n",
      "Batch 2 of 2..\n",
      "  Identify test point field associations..\n",
      "  Done.                                          \n",
      "  175944 associations added to data base.\n",
      "Iterate through 2376 field pairs to count sources in overlapping region..\n",
      "  Done.                                             \n",
      "2376 field pairs added to data base.\n"
     ]
    }
   ],
   "source": [
    "db_file = 'test.sqlite3'\n",
    "os.system(f'cp gridtests/test_init.sqlite3 gridtests/{db_file}')\n",
    "db = DBConnectorSQLite(os.path.join('gridtests/', db_file))\n",
    "db.add_fields(grid)\n",
    "run_associations(db, n_batch=150000)"
   ]
  },
  {
   "cell_type": "markdown",
   "id": "ba77820b-bb64-4332-8a65-a21d952b0c4e",
   "metadata": {},
   "source": [
    "### Test analysis"
   ]
  },
  {
   "cell_type": "code",
   "execution_count": null,
   "id": "f096ade4-51bd-4a9a-9b00-0508b9d145c6",
   "metadata": {},
   "outputs": [],
   "source": [
    "db = DBConnectorSQLite('gridtests/test.sqlite3')"
   ]
  },
  {
   "cell_type": "code",
   "execution_count": null,
   "id": "755be9c1-5f42-45dd-840c-4cbc93317ab5",
   "metadata": {},
   "outputs": [],
   "source": [
    "counts = count_sources_in_fields(db)\n",
    "sns.histplot(data=counts, x='n_sources', discrete=True)\n",
    "counts['n_sources'].describe()"
   ]
  },
  {
   "cell_type": "code",
   "execution_count": null,
   "id": "5a3dc61d-3f97-4c84-8514-e8c6b554ff38",
   "metadata": {},
   "outputs": [],
   "source": [
    "overlapping_fields = get_overlapping_fields(db)\n",
    "overlapping_fields"
   ]
  },
  {
   "cell_type": "markdown",
   "id": "7e50d69c-e3da-4b26-81d7-8c13c79950ca",
   "metadata": {},
   "source": [
    "Distribution of number of sources in overlapping regions:"
   ]
  },
  {
   "cell_type": "code",
   "execution_count": null,
   "id": "5c998a29-df2e-4dd5-9d6e-95e91ec46439",
   "metadata": {},
   "outputs": [],
   "source": [
    "sns.histplot(data=overlapping_fields, x='n_sources', hue='same_dec', discrete=True);"
   ]
  },
  {
   "cell_type": "code",
   "execution_count": null,
   "id": "3a9a5feb-4ffe-4709-bcb1-9b4f3f91ac62",
   "metadata": {},
   "outputs": [],
   "source": [
    "sel = overlapping_fields['same_dec']\n",
    "n_sources_grouped = overlapping_fields.loc[sel, ('field1_dec_id', 'field1_dec', 'n_sources')].groupby(by='field1_dec_id')\n",
    "n_sources = n_sources_grouped.min()\n",
    "n_sources = n_sources.reset_index(drop=True).rename(columns={'n_sources': 'n_sources_min'})\n",
    "n_sources.insert(\n",
    "        2, 'n_sources_median', \n",
    "        n_sources_grouped.median()['n_sources'])\n",
    "n_sources.insert(\n",
    "        3, 'n_sources_mean', \n",
    "        n_sources_grouped.mean()['n_sources'])\n",
    "n_sources.insert(\n",
    "        4, 'n_sources_std', \n",
    "        n_sources_grouped.std()['n_sources'])\n",
    "n_sources.insert(\n",
    "        5, 'n_sources_max', \n",
    "        n_sources_grouped.max()['n_sources'])\n",
    "#plt.errorbar(np.degrees(n_sources['field1_dec']), n_sources['n_sources_mean'], yerr=n_sources['n_sources_std'])\n",
    "#plt.ylabel('Mean count')\n",
    "#plt.xlabel('Declination (deg)');\n",
    "sns.scatterplot(data=n_sources, x='field1_dec', y='n_sources_min', marker='_', label='min')\n",
    "sns.scatterplot(data=n_sources, x='field1_dec', y='n_sources_max', marker='_', label='max')\n",
    "sns.scatterplot(data=n_sources, x='field1_dec', y='n_sources_median', marker='o', label='median')"
   ]
  },
  {
   "cell_type": "code",
   "execution_count": null,
   "id": "4aa0222e-5727-4b5f-9a1e-6fae81e7e92b",
   "metadata": {},
   "outputs": [],
   "source": [
    "sel = overlapping_fields['same_dec']\n",
    "sns.boxplot(data=overlapping_fields.loc[sel], x='field1_dec', y='n_sources', whis=10)"
   ]
  },
  {
   "cell_type": "markdown",
   "id": "a336f987-6b1c-4c50-a327-010d70ee2783",
   "metadata": {},
   "source": [
    "## Test Northern Grid"
   ]
  },
  {
   "cell_type": "markdown",
   "id": "dd1f210d-90bb-44e9-8168-91d1ca9f66cd",
   "metadata": {},
   "source": [
    "### Overlap: 0 arcmin"
   ]
  },
  {
   "cell_type": "code",
   "execution_count": 62,
   "id": "ca3576c0-3432-453b-a32e-eb702ae62a62",
   "metadata": {
    "slideshow": {
     "slide_type": "fragment"
    },
    "tags": []
   },
   "outputs": [
    {
     "name": "stdout",
     "output_type": "stream",
     "text": [
      "Create fields..\n",
      "  Calculate field centers..\n",
      "  Calculate field corners..\n",
      "    Done                                                    \n",
      "  Identify fields in Galactic plane..\n",
      "Final number of fields: 41835\n"
     ]
    }
   ],
   "source": [
    "fov = Angle(30. * u.arcmin)\n",
    "overlap = Angle(0. * u.arcmin)\n",
    "tilt = Angle(0.* u.deg)\n",
    "dec_lim_north = Angle(90. * u.deg)\n",
    "dec_lim_south = Angle(0. * u.deg)\n",
    "gal_lat_lim = Angle(30. * u.deg)\n",
    "gal_lat_lim_strict = True\n",
    "verbose = 1\n",
    "\n",
    "grid = fieldgrid.FieldGridIsoLat(\n",
    "        fov.rad, overlap=overlap.rad, tilt=tilt.rad, dec_lim_north=dec_lim_north.rad, dec_lim_south=dec_lim_south.rad,\n",
    "        gal_lat_lim=gal_lat_lim.rad, gal_lat_lim_strict=gal_lat_lim_strict, \n",
    "        verbose=verbose)"
   ]
  },
  {
   "cell_type": "code",
   "execution_count": null,
   "id": "cc27fbf2-a5d6-4492-8815-22ff118a8bf8",
   "metadata": {},
   "outputs": [],
   "source": [
    "tester = fieldgrid.FieldGridTester(grid)"
   ]
  },
  {
   "cell_type": "code",
   "execution_count": null,
   "id": "374a4cec-e0e4-4110-b8eb-7505dda78e1a",
   "metadata": {},
   "outputs": [],
   "source": [
    "hemisphere = 'north'\n",
    "run = False"
   ]
  },
  {
   "cell_type": "code",
   "execution_count": null,
   "id": "ba45ca47-032a-4940-9ef4-34ccea0dee4b",
   "metadata": {},
   "outputs": [],
   "source": [
    "if run:\n",
    "    db_file = f'test_{hemisphere}_{overlap.arcmin:.1f}arcmin.sqlite3'\n",
    "    os.system(f'cp gridtests/test_{hemisphere}_init.sqlite3 gridtests/{db_file}')\n",
    "    db = DBConnectorSQLite(os.path.join('gridtests/', db_file))\n",
    "    db.add_fields(grid)\n",
    "    time_start = Time.now()\n",
    "    print('Starting calculations at', time_start)\n",
    "    run_associations(db, n_batch=500000)\n",
    "    time_total = Time.now() - time_start\n",
    "    print(f'Finished after {time_total.value*24.} hours')"
   ]
  },
  {
   "cell_type": "markdown",
   "id": "1a45afe0-11d1-43aa-9e20-664b67027235",
   "metadata": {},
   "source": [
    "### Overlap: 2 arcmin"
   ]
  },
  {
   "cell_type": "code",
   "execution_count": null,
   "id": "a4fa6d06-9e86-4ee2-9f78-d9f840477729",
   "metadata": {
    "slideshow": {
     "slide_type": "fragment"
    },
    "tags": []
   },
   "outputs": [],
   "source": [
    "fov = Angle(30. * u.arcmin)\n",
    "overlap = Angle(2. * u.arcmin)\n",
    "tilt = Angle(0.* u.deg)\n",
    "dec_lim_north = Angle(90. * u.deg)\n",
    "dec_lim_south = Angle(0. * u.deg)\n",
    "gal_lat_lim = Angle(30. * u.deg)\n",
    "gal_lat_lim_strict = True\n",
    "verbose = 1\n",
    "\n",
    "grid = fieldgrid.FieldGridIsoLat(\n",
    "        fov.rad, overlap=overlap.rad, tilt=tilt.rad, dec_lim_north=dec_lim_north.rad, dec_lim_south=dec_lim_south.rad,\n",
    "        gal_lat_lim=gal_lat_lim.rad, gal_lat_lim_strict=gal_lat_lim_strict, \n",
    "        verbose=verbose)"
   ]
  },
  {
   "cell_type": "code",
   "execution_count": null,
   "id": "c3d11c7f-1c40-41c5-9c37-e77c16aa41f2",
   "metadata": {},
   "outputs": [],
   "source": [
    "tester = fieldgrid.FieldGridTester(grid)"
   ]
  },
  {
   "cell_type": "code",
   "execution_count": null,
   "id": "be92746e-e5b0-4f40-9636-ebe3ecd7fdb3",
   "metadata": {},
   "outputs": [],
   "source": [
    "hemisphere = 'north'\n",
    "run = False"
   ]
  },
  {
   "cell_type": "code",
   "execution_count": null,
   "id": "be41ed9c-a95d-4126-9b45-3d73bf7d2ec3",
   "metadata": {},
   "outputs": [],
   "source": [
    "if run:\n",
    "    db_file = f'test_{hemisphere}_{overlap.arcmin:.1f}arcmin.sqlite3'\n",
    "    os.system(f'cp gridtests/test_{hemisphere}_init.sqlite3 gridtests/{db_file}')\n",
    "    db = DBConnectorSQLite(os.path.join('gridtests/', db_file))\n",
    "    db.add_fields(grid)\n",
    "    time_start = Time.now()\n",
    "    print('Starting calculations at', time_start)\n",
    "    run_associations(db, n_batch=500000)\n",
    "    time_total = Time.now() - time_start\n",
    "    print(f'Finished after {time_total.value*24.} hours')"
   ]
  },
  {
   "cell_type": "markdown",
   "id": "909aa6b6-d55b-4f7f-814a-bc737ba52401",
   "metadata": {},
   "source": [
    "#### Results"
   ]
  },
  {
   "cell_type": "code",
   "execution_count": 57,
   "id": "6c9caa32-64e5-41cc-839b-c443402f1c89",
   "metadata": {},
   "outputs": [],
   "source": [
    "hemisphere = 'north'\n",
    "overlap = Angle(2. * u.arcmin)\n",
    "\n",
    "db_file = f'gridtests/test_{hemisphere}_{overlap.arcmin:.1f}arcmin.sqlite3'\n",
    "db = DBConnectorSQLite(db_file)"
   ]
  },
  {
   "cell_type": "code",
   "execution_count": 59,
   "id": "c021a376-56a3-4cd6-bf81-5dcb09b9619e",
   "metadata": {},
   "outputs": [
    {
     "name": "stdout",
     "output_type": "stream",
     "text": [
      "Sources:  2305300\n",
      "Fields:    47834\n"
     ]
    }
   ],
   "source": [
    "print(f'Sources: {db.n_sources():8d}')\n",
    "print(f'Fields: {db.n_fields():8d}')"
   ]
  },
  {
   "cell_type": "markdown",
   "id": "a8ab7806-de01-4e89-ae6f-fff97e09e9e8",
   "metadata": {
    "tags": []
   },
   "source": [
    "##### How many stars are in each field?"
   ]
  },
  {
   "cell_type": "code",
   "execution_count": 42,
   "id": "98dc16a1-7d4a-4507-a44e-7666d8e6808d",
   "metadata": {},
   "outputs": [
    {
     "data": {
      "text/plain": [
       "count    47834.000000\n",
       "mean        50.730108\n",
       "std         18.946283\n",
       "min         12.000000\n",
       "25%         37.000000\n",
       "50%         47.000000\n",
       "75%         61.000000\n",
       "max        674.000000\n",
       "Name: n_sources, dtype: float64"
      ]
     },
     "execution_count": 42,
     "metadata": {},
     "output_type": "execute_result"
    },
    {
     "data": {
      "image/png": "[encoded data removed]",
      "text/plain": [
       "<Figure size 640x480 with 1 Axes>"
      ]
     },
     "metadata": {},
     "output_type": "display_data"
    }
   ],
   "source": [
    "counts = count_sources_in_fields(db)\n",
    "ax = sns.histplot(data=counts, x='n_sources', discrete=True)\n",
    "ax.set(xlim=(0, 150), xlabel='Number of sources per field')\n",
    "counts['n_sources'].describe()"
   ]
  },
  {
   "cell_type": "markdown",
   "id": "4204bfcb-dd8f-4d0b-8eb3-2df9397b749f",
   "metadata": {
    "tags": []
   },
   "source": [
    "##### How many stars are in one field depending on declination?"
   ]
  },
  {
   "cell_type": "code",
   "execution_count": 43,
   "id": "dc5a9c18-bb06-481a-8afc-769a75d6ffd3",
   "metadata": {},
   "outputs": [],
   "source": [
    "counts_grouped = counts.groupby(by='field_dec')\n",
    "counts_per_dec = counts_grouped.min()\n",
    "counts_per_dec = counts_per_dec.reset_index().rename(columns={'n_sources': 'n_sources_min'}).loc[:, ('field_dec', 'n_sources_min')]\n",
    "counts_per_dec.insert(\n",
    "        2, 'n_sources_median', \n",
    "        counts_grouped.median()['n_sources'].values)\n",
    "counts_per_dec.insert(\n",
    "        3, 'n_sources_mean', \n",
    "        counts_grouped.mean()['n_sources'].values)\n",
    "counts_per_dec.insert(\n",
    "        4, 'n_sources_std', \n",
    "        counts_grouped.std()['n_sources'].values)\n",
    "counts_per_dec.insert(\n",
    "        5, 'n_sources_max', \n",
    "        counts_grouped.max()['n_sources'].values)\n",
    "counts_per_dec.insert(\n",
    "        2, 'field_dec_deg', \n",
    "        np.degrees(counts_per_dec['field_dec'].values))"
   ]
  },
  {
   "cell_type": "code",
   "execution_count": 44,
   "id": "d90355c6-a775-4ceb-a3ff-d64e73f7baf6",
   "metadata": {},
   "outputs": [
    {
     "data": {
      "image/png": "[encoded data removed]",
      "text/plain": [
       "<Figure size 640x480 with 1 Axes>"
      ]
     },
     "metadata": {},
     "output_type": "display_data"
    }
   ],
   "source": [
    "ax = sns.scatterplot(data=counts_per_dec, x='field_dec_deg', y='n_sources_min', marker='_', label='min')\n",
    "ax = sns.scatterplot(data=counts_per_dec, x='field_dec_deg', y='n_sources_max', marker='_', label='max')\n",
    "ax = sns.scatterplot(data=counts_per_dec, x='field_dec_deg', y='n_sources_median', marker='o', label='median')\n",
    "ax.set(xlabel='Field center declination (deg)', ylabel='Sources per field at given declination');"
   ]
  },
  {
   "cell_type": "code",
   "execution_count": 45,
   "id": "d7de8037-9a5f-498c-a10f-b10a83efef2a",
   "metadata": {},
   "outputs": [
    {
     "data": {
      "image/png": "[encoded data removed]",
      "text/plain": [
       "<Figure size 640x480 with 1 Axes>"
      ]
     },
     "metadata": {},
     "output_type": "display_data"
    }
   ],
   "source": [
    "ax = sns.scatterplot(data=counts_per_dec, x='field_dec_deg', y='n_sources_min', marker='_', label='min')\n",
    "ax = sns.scatterplot(data=counts_per_dec, x='field_dec_deg', y='n_sources_max', marker='_', label='max')\n",
    "ax = sns.scatterplot(data=counts_per_dec, x='field_dec_deg', y='n_sources_median', marker='o', label='median')\n",
    "ax.set(xlabel='Field center declination (deg)', ylabel='Sources per field at given declination', ylim=(0, 150));"
   ]
  },
  {
   "cell_type": "markdown",
   "id": "fac7044a-7e68-4f43-a50f-fee89291fbd6",
   "metadata": {},
   "source": [
    "##### How many stars are in the overlapping regions?"
   ]
  },
  {
   "cell_type": "code",
   "execution_count": 46,
   "id": "274e43e0-0aba-44a9-ac0b-f7dfd5753d7e",
   "metadata": {},
   "outputs": [
    {
     "data": {
      "text/html": [
       "<div>\n",
       "<style scoped>\n",
       "    .dataframe tbody tr th:only-of-type {\n",
       "        vertical-align: middle;\n",
       "    }\n",
       "\n",
       "    .dataframe tbody tr th {\n",
       "        vertical-align: top;\n",
       "    }\n",
       "\n",
       "    .dataframe thead th {\n",
       "        text-align: right;\n",
       "    }\n",
       "</style>\n",
       "<table border=\"1\" class=\"dataframe\">\n",
       "  <thead>\n",
       "    <tr style=\"text-align: right;\">\n",
       "      <th></th>\n",
       "      <th>field1_id</th>\n",
       "      <th>field2_id</th>\n",
       "      <th>n_sources</th>\n",
       "      <th>field1_ra</th>\n",
       "      <th>field1_dec</th>\n",
       "      <th>field1_dec_id</th>\n",
       "      <th>field2_ra</th>\n",
       "      <th>field2_dec</th>\n",
       "      <th>field2_dec_id</th>\n",
       "      <th>delta_ra</th>\n",
       "      <th>delta_dec</th>\n",
       "      <th>same_dec</th>\n",
       "    </tr>\n",
       "  </thead>\n",
       "  <tbody>\n",
       "    <tr>\n",
       "      <th>0</th>\n",
       "      <td>1</td>\n",
       "      <td>2</td>\n",
       "      <td>2</td>\n",
       "      <td>0.000000</td>\n",
       "      <td>0.003491</td>\n",
       "      <td>0</td>\n",
       "      <td>0.008149</td>\n",
       "      <td>0.003491</td>\n",
       "      <td>0</td>\n",
       "      <td>0.008149</td>\n",
       "      <td>0.000000</td>\n",
       "      <td>True</td>\n",
       "    </tr>\n",
       "    <tr>\n",
       "      <th>1</th>\n",
       "      <td>1</td>\n",
       "      <td>481</td>\n",
       "      <td>0</td>\n",
       "      <td>0.000000</td>\n",
       "      <td>0.003491</td>\n",
       "      <td>0</td>\n",
       "      <td>6.275036</td>\n",
       "      <td>0.003491</td>\n",
       "      <td>0</td>\n",
       "      <td>6.275036</td>\n",
       "      <td>0.000000</td>\n",
       "      <td>True</td>\n",
       "    </tr>\n",
       "    <tr>\n",
       "      <th>2</th>\n",
       "      <td>1</td>\n",
       "      <td>482</td>\n",
       "      <td>6</td>\n",
       "      <td>0.000000</td>\n",
       "      <td>0.003491</td>\n",
       "      <td>0</td>\n",
       "      <td>0.000000</td>\n",
       "      <td>0.011636</td>\n",
       "      <td>1</td>\n",
       "      <td>0.000000</td>\n",
       "      <td>0.008145</td>\n",
       "      <td>False</td>\n",
       "    </tr>\n",
       "    <tr>\n",
       "      <th>3</th>\n",
       "      <td>2</td>\n",
       "      <td>3</td>\n",
       "      <td>3</td>\n",
       "      <td>0.008149</td>\n",
       "      <td>0.003491</td>\n",
       "      <td>0</td>\n",
       "      <td>0.016299</td>\n",
       "      <td>0.003491</td>\n",
       "      <td>0</td>\n",
       "      <td>0.008149</td>\n",
       "      <td>0.000000</td>\n",
       "      <td>True</td>\n",
       "    </tr>\n",
       "    <tr>\n",
       "      <th>4</th>\n",
       "      <td>2</td>\n",
       "      <td>483</td>\n",
       "      <td>0</td>\n",
       "      <td>0.008149</td>\n",
       "      <td>0.003491</td>\n",
       "      <td>0</td>\n",
       "      <td>0.008149</td>\n",
       "      <td>0.011636</td>\n",
       "      <td>1</td>\n",
       "      <td>0.000000</td>\n",
       "      <td>0.008145</td>\n",
       "      <td>False</td>\n",
       "    </tr>\n",
       "    <tr>\n",
       "      <th>...</th>\n",
       "      <td>...</td>\n",
       "      <td>...</td>\n",
       "      <td>...</td>\n",
       "      <td>...</td>\n",
       "      <td>...</td>\n",
       "      <td>...</td>\n",
       "      <td>...</td>\n",
       "      <td>...</td>\n",
       "      <td>...</td>\n",
       "      <td>...</td>\n",
       "      <td>...</td>\n",
       "      <td>...</td>\n",
       "    </tr>\n",
       "    <tr>\n",
       "      <th>113573</th>\n",
       "      <td>47829</td>\n",
       "      <td>47830</td>\n",
       "      <td>2</td>\n",
       "      <td>3.064968</td>\n",
       "      <td>1.518436</td>\n",
       "      <td>186</td>\n",
       "      <td>3.218217</td>\n",
       "      <td>1.518436</td>\n",
       "      <td>186</td>\n",
       "      <td>0.153248</td>\n",
       "      <td>0.000000</td>\n",
       "      <td>True</td>\n",
       "    </tr>\n",
       "    <tr>\n",
       "      <th>113574</th>\n",
       "      <td>47830</td>\n",
       "      <td>47831</td>\n",
       "      <td>1</td>\n",
       "      <td>3.218217</td>\n",
       "      <td>1.518436</td>\n",
       "      <td>186</td>\n",
       "      <td>3.371465</td>\n",
       "      <td>1.518436</td>\n",
       "      <td>186</td>\n",
       "      <td>0.153248</td>\n",
       "      <td>0.000000</td>\n",
       "      <td>True</td>\n",
       "    </tr>\n",
       "    <tr>\n",
       "      <th>113575</th>\n",
       "      <td>47831</td>\n",
       "      <td>47832</td>\n",
       "      <td>8</td>\n",
       "      <td>3.371465</td>\n",
       "      <td>1.518436</td>\n",
       "      <td>186</td>\n",
       "      <td>3.524714</td>\n",
       "      <td>1.518436</td>\n",
       "      <td>186</td>\n",
       "      <td>0.153248</td>\n",
       "      <td>0.000000</td>\n",
       "      <td>True</td>\n",
       "    </tr>\n",
       "    <tr>\n",
       "      <th>113576</th>\n",
       "      <td>47832</td>\n",
       "      <td>47833</td>\n",
       "      <td>5</td>\n",
       "      <td>3.524714</td>\n",
       "      <td>1.518436</td>\n",
       "      <td>186</td>\n",
       "      <td>3.677962</td>\n",
       "      <td>1.518436</td>\n",
       "      <td>186</td>\n",
       "      <td>0.153248</td>\n",
       "      <td>0.000000</td>\n",
       "      <td>True</td>\n",
       "    </tr>\n",
       "    <tr>\n",
       "      <th>113577</th>\n",
       "      <td>47833</td>\n",
       "      <td>47834</td>\n",
       "      <td>0</td>\n",
       "      <td>3.677962</td>\n",
       "      <td>1.518436</td>\n",
       "      <td>186</td>\n",
       "      <td>3.831211</td>\n",
       "      <td>1.518436</td>\n",
       "      <td>186</td>\n",
       "      <td>0.153248</td>\n",
       "      <td>0.000000</td>\n",
       "      <td>True</td>\n",
       "    </tr>\n",
       "  </tbody>\n",
       "</table>\n",
       "<p>113578 rows × 12 columns</p>\n",
       "</div>"
      ],
      "text/plain": [
       "        field1_id  field2_id  n_sources  field1_ra  field1_dec  field1_dec_id  \\\n",
       "0               1          2          2   0.000000    0.003491              0   \n",
       "1               1        481          0   0.000000    0.003491              0   \n",
       "2               1        482          6   0.000000    0.003491              0   \n",
       "3               2          3          3   0.008149    0.003491              0   \n",
       "4               2        483          0   0.008149    0.003491              0   \n",
       "...           ...        ...        ...        ...         ...            ...   \n",
       "113573      47829      47830          2   3.064968    1.518436            186   \n",
       "113574      47830      47831          1   3.218217    1.518436            186   \n",
       "113575      47831      47832          8   3.371465    1.518436            186   \n",
       "113576      47832      47833          5   3.524714    1.518436            186   \n",
       "113577      47833      47834          0   3.677962    1.518436            186   \n",
       "\n",
       "        field2_ra  field2_dec  field2_dec_id  delta_ra  delta_dec  same_dec  \n",
       "0        0.008149    0.003491              0  0.008149   0.000000      True  \n",
       "1        6.275036    0.003491              0  6.275036   0.000000      True  \n",
       "2        0.000000    0.011636              1  0.000000   0.008145     False  \n",
       "3        0.016299    0.003491              0  0.008149   0.000000      True  \n",
       "4        0.008149    0.011636              1  0.000000   0.008145     False  \n",
       "...           ...         ...            ...       ...        ...       ...  \n",
       "113573   3.218217    1.518436            186  0.153248   0.000000      True  \n",
       "113574   3.371465    1.518436            186  0.153248   0.000000      True  \n",
       "113575   3.524714    1.518436            186  0.153248   0.000000      True  \n",
       "113576   3.677962    1.518436            186  0.153248   0.000000      True  \n",
       "113577   3.831211    1.518436            186  0.153248   0.000000      True  \n",
       "\n",
       "[113578 rows x 12 columns]"
      ]
     },
     "execution_count": 46,
     "metadata": {},
     "output_type": "execute_result"
    }
   ],
   "source": [
    "overlapping_fields = get_overlapping_fields(db)\n",
    "overlapping_fields"
   ]
  },
  {
   "cell_type": "markdown",
   "id": "f4a07ddf-e4d9-405a-913e-f30ce6978ae9",
   "metadata": {},
   "source": [
    "Distribution of number of sources in overlapping regions:"
   ]
  },
  {
   "cell_type": "code",
   "execution_count": 51,
   "id": "dc35a122-ded2-489b-af26-bdc8ec0a825e",
   "metadata": {},
   "outputs": [
    {
     "data": {
      "image/png": "[encoded data removed]",
      "text/plain": [
       "<Figure size 640x480 with 1 Axes>"
      ]
     },
     "metadata": {},
     "output_type": "display_data"
    }
   ],
   "source": [
    "ax = sns.histplot(data=overlapping_fields, x='n_sources', hue='same_dec', discrete=True)\n",
    "ax.set(xlabel='Number of sources in overlapping regions', title=f'Fixed overlap of {overlap.arcmin} arcmin', xlim=(0, 15));"
   ]
  },
  {
   "cell_type": "code",
   "execution_count": 50,
   "id": "a071412e-4f41-4215-bd4d-4bddea757fc0",
   "metadata": {},
   "outputs": [
    {
     "name": "stdout",
     "output_type": "stream",
     "text": [
      "Same declination:\n",
      "count    44903.000000\n",
      "mean         3.360110\n",
      "std          2.563613\n",
      "min          0.000000\n",
      "25%          2.000000\n",
      "50%          3.000000\n",
      "75%          5.000000\n",
      "max        289.000000\n",
      "Name: n_sources, dtype: float64\n",
      "\n",
      "Different declination:\n"
     ]
    },
    {
     "data": {
      "text/plain": [
       "count    68675.000000\n",
       "mean         2.120903\n",
       "std          1.963315\n",
       "min          0.000000\n",
       "25%          1.000000\n",
       "50%          2.000000\n",
       "75%          3.000000\n",
       "max         74.000000\n",
       "Name: n_sources, dtype: float64"
      ]
     },
     "execution_count": 50,
     "metadata": {},
     "output_type": "execute_result"
    }
   ],
   "source": [
    "print('Same declination:')\n",
    "sel = overlapping_fields['same_dec']\n",
    "print(overlapping_fields.loc[sel, 'n_sources'].describe())\n",
    "\n",
    "print('\\nDifferent declination:')\n",
    "overlapping_fields.loc[~sel, 'n_sources'].describe()"
   ]
  },
  {
   "cell_type": "markdown",
   "id": "a0edc370-b9c2-4edd-a1dd-c352e1405de3",
   "metadata": {},
   "source": [
    "### Overlap: 10 arcmin"
   ]
  },
  {
   "cell_type": "code",
   "execution_count": 12,
   "id": "c53111fc-0e50-4c18-9f3b-9ad51c9a40cb",
   "metadata": {
    "slideshow": {
     "slide_type": "fragment"
    },
    "tags": []
   },
   "outputs": [
    {
     "name": "stdout",
     "output_type": "stream",
     "text": [
      "Create fields..\n",
      "  Calculate field centers..\n",
      "  Calculate field corners..\n",
      "    Done                                                    \n",
      "  Identify fields in Galactic plane..\n",
      "Final number of fields: 93629\n"
     ]
    }
   ],
   "source": [
    "fov = Angle(30. * u.arcmin)\n",
    "overlap = Angle(10. * u.arcmin)\n",
    "tilt = Angle(0.* u.deg)\n",
    "dec_lim_north = Angle(90. * u.deg)\n",
    "dec_lim_south = Angle(0. * u.deg)\n",
    "gal_lat_lim = Angle(30. * u.deg)\n",
    "gal_lat_lim_strict = True\n",
    "verbose = 1\n",
    "\n",
    "grid = fieldgrid.FieldGridIsoLat(\n",
    "        fov.rad, overlap=overlap.rad, tilt=tilt.rad, dec_lim_north=dec_lim_north.rad, dec_lim_south=dec_lim_south.rad,\n",
    "        gal_lat_lim=gal_lat_lim.rad, gal_lat_lim_strict=gal_lat_lim_strict, \n",
    "        verbose=verbose)"
   ]
  },
  {
   "cell_type": "code",
   "execution_count": 13,
   "id": "87d4495e-2c08-4681-bdd7-b3f1f5ec3309",
   "metadata": {},
   "outputs": [],
   "source": [
    "tester = fieldgrid.FieldGridTester(grid)"
   ]
  },
  {
   "cell_type": "code",
   "execution_count": 14,
   "id": "60ef08be-8b4b-4097-a39a-676591ebfbf3",
   "metadata": {},
   "outputs": [],
   "source": [
    "hemisphere = 'north'\n",
    "run = False"
   ]
  },
  {
   "cell_type": "code",
   "execution_count": 15,
   "id": "14de99a4-1398-4d6a-a8d1-6266c486eac3",
   "metadata": {},
   "outputs": [
    {
     "name": "stdout",
     "output_type": "stream",
     "text": [
      "93629 fields added to data base.\n",
      "Starting calculations at 2023-05-07 10:25:06.456640\n",
      "Finding field associations of 2305300 sources in 5 batches of 500000 sources..\n",
      "Batch 1 of 5..\n",
      "  Identify test point field associations..\n",
      "  Done.                                          \n",
      "  1034381 associations added to data base.\n",
      "Batch 2 of 5..\n",
      "  Identify test point field associations..\n",
      "  Done.                                          \n",
      "  1026544 associations added to data base.\n",
      "Batch 3 of 5..\n",
      "  Identify test point field associations..\n",
      "  Done.                                          \n",
      "  1016972 associations added to data base.\n",
      "Batch 4 of 5..\n",
      "  Identify test point field associations..\n",
      "  Done.                                          \n",
      "  1034219 associations added to data base.\n",
      "Batch 5 of 5..\n",
      "  Identify test point field associations..\n",
      "  Done.                                          \n",
      "  638148 associations added to data base.\n",
      "Iterate through 356521 field pairs to count sources in overlapping region..\n",
      "  Done.                                             \n",
      "356521 field pairs added to data base.\n",
      "Finished after 37.491469171666665 hours\n"
     ]
    }
   ],
   "source": [
    "if run:\n",
    "    db_file = f'test_{hemisphere}_{overlap.arcmin:.1f}arcmin.sqlite3'\n",
    "    os.system(f'cp gridtests/test_{hemisphere}_init.sqlite3 gridtests/{db_file}')\n",
    "    db = DBConnectorSQLite(os.path.join('gridtests/', db_file))\n",
    "    db.add_fields(grid)\n",
    "    time_start = Time.now()\n",
    "    print('Starting calculations at', time_start)\n",
    "    run_associations(db, n_batch=500000)\n",
    "    time_total = Time.now() - time_start\n",
    "    print(f'Finished after {time_total.value*24.} hours')"
   ]
  },
  {
   "cell_type": "markdown",
   "id": "cbd96ebc-080b-46c3-bce3-0e5dd312d139",
   "metadata": {},
   "source": [
    "#### Results"
   ]
  },
  {
   "cell_type": "code",
   "execution_count": 60,
   "id": "b28fa7b1-83de-432d-a862-37d1dffced44",
   "metadata": {},
   "outputs": [],
   "source": [
    "hemisphere = 'north'\n",
    "overlap = Angle(10. * u.arcmin)\n",
    "\n",
    "db_file = f'gridtests/test_{hemisphere}_{overlap.arcmin:.1f}arcmin.sqlite3'\n",
    "db = DBConnectorSQLite(db_file)"
   ]
  },
  {
   "cell_type": "code",
   "execution_count": 61,
   "id": "e64e2bd7-d47a-4072-b784-a083678d82d4",
   "metadata": {},
   "outputs": [
    {
     "name": "stdout",
     "output_type": "stream",
     "text": [
      "Sources:  2305300\n",
      "Fields:    93629\n"
     ]
    }
   ],
   "source": [
    "print(f'Sources: {db.n_sources():8d}')\n",
    "print(f'Fields: {db.n_fields():8d}')"
   ]
  },
  {
   "cell_type": "markdown",
   "id": "061dde05-f7e6-4079-a3ca-2c06447cb51e",
   "metadata": {
    "tags": []
   },
   "source": [
    "##### How many stars are in each field?"
   ]
  },
  {
   "cell_type": "markdown",
   "id": "394ca21a-0cce-4458-b703-fc8bd9a1a904",
   "metadata": {},
   "source": [
    "Get source counts per field from database, also get Galactic coordinates of field centers, convert all coordinates to degrees for simpler plotting:"
   ]
  },
  {
   "cell_type": "code",
   "execution_count": 74,
   "id": "020fbdc5-2a1c-46b4-8555-0ff508388d1d",
   "metadata": {},
   "outputs": [],
   "source": [
    "counts = count_sources_in_fields(db)\n",
    "counts['field_ra'] = np.degrees(counts['field_ra'])\n",
    "counts['field_dec'] = np.degrees(counts['field_dec'])\n",
    "\n",
    "# transform to Galactic coordinates:\n",
    "coords = SkyCoord(ra=counts['field_ra']*u.deg, dec=counts['field_dec']*u.deg, frame='icrs')\n",
    "counts.insert(3, 'field_l', coords.galactic.l.deg)\n",
    "counts.insert(4, 'field_b', coords.galactic.b.deg)\n",
    "del coords"
   ]
  },
  {
   "cell_type": "code",
   "execution_count": 147,
   "id": "59c577a7-1bb8-4e67-b2a5-28668ab54889",
   "metadata": {},
   "outputs": [
    {
     "data": {
      "text/html": [
       "<div>\n",
       "<style scoped>\n",
       "    .dataframe tbody tr th:only-of-type {\n",
       "        vertical-align: middle;\n",
       "    }\n",
       "\n",
       "    .dataframe tbody tr th {\n",
       "        vertical-align: top;\n",
       "    }\n",
       "\n",
       "    .dataframe thead th {\n",
       "        text-align: right;\n",
       "    }\n",
       "</style>\n",
       "<table border=\"1\" class=\"dataframe\">\n",
       "  <thead>\n",
       "    <tr style=\"text-align: right;\">\n",
       "      <th></th>\n",
       "      <th>field_id</th>\n",
       "      <th>field_ra</th>\n",
       "      <th>field_dec</th>\n",
       "      <th>field_l</th>\n",
       "      <th>field_b</th>\n",
       "      <th>n_sources</th>\n",
       "    </tr>\n",
       "  </thead>\n",
       "  <tbody>\n",
       "    <tr>\n",
       "      <th>206</th>\n",
       "      <td>207</td>\n",
       "      <td>68.730306</td>\n",
       "      <td>0.166667</td>\n",
       "      <td>195.594059</td>\n",
       "      <td>-29.868341</td>\n",
       "      <td>61</td>\n",
       "    </tr>\n",
       "    <tr>\n",
       "      <th>207</th>\n",
       "      <td>208</td>\n",
       "      <td>136.793327</td>\n",
       "      <td>0.166667</td>\n",
       "      <td>229.824374</td>\n",
       "      <td>29.877490</td>\n",
       "      <td>56</td>\n",
       "    </tr>\n",
       "    <tr>\n",
       "      <th>543</th>\n",
       "      <td>544</td>\n",
       "      <td>248.897127</td>\n",
       "      <td>0.166667</td>\n",
       "      <td>16.022242</td>\n",
       "      <td>29.901760</td>\n",
       "      <td>95</td>\n",
       "    </tr>\n",
       "    <tr>\n",
       "      <th>544</th>\n",
       "      <td>545</td>\n",
       "      <td>316.960148</td>\n",
       "      <td>0.166667</td>\n",
       "      <td>50.252458</td>\n",
       "      <td>-29.844127</td>\n",
       "      <td>109</td>\n",
       "    </tr>\n",
       "    <tr>\n",
       "      <th>878</th>\n",
       "      <td>879</td>\n",
       "      <td>68.396664</td>\n",
       "      <td>0.500000</td>\n",
       "      <td>195.063976</td>\n",
       "      <td>-29.974884</td>\n",
       "      <td>85</td>\n",
       "    </tr>\n",
       "    <tr>\n",
       "      <th>...</th>\n",
       "      <td>...</td>\n",
       "      <td>...</td>\n",
       "      <td>...</td>\n",
       "      <td>...</td>\n",
       "      <td>...</td>\n",
       "      <td>...</td>\n",
       "    </tr>\n",
       "    <tr>\n",
       "      <th>93624</th>\n",
       "      <td>93625</td>\n",
       "      <td>190.188679</td>\n",
       "      <td>87.166667</td>\n",
       "      <td>123.084250</td>\n",
       "      <td>29.958425</td>\n",
       "      <td>74</td>\n",
       "    </tr>\n",
       "    <tr>\n",
       "      <th>93625</th>\n",
       "      <td>93626</td>\n",
       "      <td>196.981132</td>\n",
       "      <td>87.166667</td>\n",
       "      <td>122.696981</td>\n",
       "      <td>29.954061</td>\n",
       "      <td>77</td>\n",
       "    </tr>\n",
       "    <tr>\n",
       "      <th>93626</th>\n",
       "      <td>93627</td>\n",
       "      <td>203.773585</td>\n",
       "      <td>87.166667</td>\n",
       "      <td>122.313287</td>\n",
       "      <td>29.908974</td>\n",
       "      <td>83</td>\n",
       "    </tr>\n",
       "    <tr>\n",
       "      <th>93627</th>\n",
       "      <td>93628</td>\n",
       "      <td>210.566038</td>\n",
       "      <td>87.166667</td>\n",
       "      <td>121.938992</td>\n",
       "      <td>29.823852</td>\n",
       "      <td>76</td>\n",
       "    </tr>\n",
       "    <tr>\n",
       "      <th>93628</th>\n",
       "      <td>93629</td>\n",
       "      <td>217.358491</td>\n",
       "      <td>87.166667</td>\n",
       "      <td>121.579741</td>\n",
       "      <td>29.699990</td>\n",
       "      <td>64</td>\n",
       "    </tr>\n",
       "  </tbody>\n",
       "</table>\n",
       "<p>867 rows × 6 columns</p>\n",
       "</div>"
      ],
      "text/plain": [
       "       field_id    field_ra  field_dec     field_l    field_b  n_sources\n",
       "206         207   68.730306   0.166667  195.594059 -29.868341         61\n",
       "207         208  136.793327   0.166667  229.824374  29.877490         56\n",
       "543         544  248.897127   0.166667   16.022242  29.901760         95\n",
       "544         545  316.960148   0.166667   50.252458 -29.844127        109\n",
       "878         879   68.396664   0.500000  195.063976 -29.974884         85\n",
       "...         ...         ...        ...         ...        ...        ...\n",
       "93624     93625  190.188679  87.166667  123.084250  29.958425         74\n",
       "93625     93626  196.981132  87.166667  122.696981  29.954061         77\n",
       "93626     93627  203.773585  87.166667  122.313287  29.908974         83\n",
       "93627     93628  210.566038  87.166667  121.938992  29.823852         76\n",
       "93628     93629  217.358491  87.166667  121.579741  29.699990         64\n",
       "\n",
       "[867 rows x 6 columns]"
      ]
     },
     "execution_count": 147,
     "metadata": {},
     "output_type": "execute_result"
    }
   ],
   "source": [
    "sel = np.logical_and(counts['field_b'] < 30., counts['field_b'] > -30.)\n",
    "counts.loc[sel]"
   ]
  },
  {
   "cell_type": "markdown",
   "id": "ec5e87a1-1eb5-4f6b-b95c-54433ce616f2",
   "metadata": {
    "tags": []
   },
   "source": [
    "##### How many stars are in one field depending on declination?"
   ]
  },
  {
   "cell_type": "code",
   "execution_count": 76,
   "id": "a969a5e7-f5b5-4a8b-a815-73dffa230d7f",
   "metadata": {},
   "outputs": [],
   "source": [
    "counts_grouped = counts.groupby(by='field_dec')\n",
    "counts_per_dec = counts_grouped.min()\n",
    "counts_per_dec = counts_per_dec.reset_index().rename(columns={'n_sources': 'n_sources_min'}).loc[:, ('field_dec', 'n_sources_min')]\n",
    "counts_per_dec.insert(\n",
    "        2, 'n_sources_median', \n",
    "        counts_grouped.median()['n_sources'].values)\n",
    "counts_per_dec.insert(\n",
    "        3, 'n_sources_mean', \n",
    "        counts_grouped.mean()['n_sources'].values)\n",
    "counts_per_dec.insert(\n",
    "        4, 'n_sources_std', \n",
    "        counts_grouped.std()['n_sources'].values)\n",
    "counts_per_dec.insert(\n",
    "        5, 'n_sources_max', \n",
    "        counts_grouped.max()['n_sources'].values)"
   ]
  },
  {
   "cell_type": "code",
   "execution_count": 79,
   "id": "58102ee5-8ecc-4b8f-a147-8ee286cbecdd",
   "metadata": {},
   "outputs": [
    {
     "data": {
      "image/png": "[encoded data removed]",
      "text/plain": [
       "<Figure size 640x480 with 1 Axes>"
      ]
     },
     "metadata": {},
     "output_type": "display_data"
    }
   ],
   "source": [
    "ax = sns.scatterplot(data=counts_per_dec, x='field_dec', y='n_sources_min', marker='_', label='min')\n",
    "ax = sns.scatterplot(data=counts_per_dec, x='field_dec', y='n_sources_max', marker='_', label='max')\n",
    "ax = sns.scatterplot(data=counts_per_dec, x='field_dec', y='n_sources_median', marker='o', label='median')\n",
    "ax.set(xlabel='Field center declination (deg)', ylabel='Sources per field at given declination');"
   ]
  },
  {
   "cell_type": "code",
   "execution_count": 80,
   "id": "04819f76-0fd5-4683-bb95-7279e5df54f4",
   "metadata": {},
   "outputs": [
    {
     "data": {
      "image/png": "[encoded data removed]",
      "text/plain": [
       "<Figure size 640x480 with 1 Axes>"
      ]
     },
     "metadata": {},
     "output_type": "display_data"
    }
   ],
   "source": [
    "ax = sns.scatterplot(data=counts_per_dec, x='field_dec', y='n_sources_min', marker='_', label='min')\n",
    "ax = sns.scatterplot(data=counts_per_dec, x='field_dec', y='n_sources_max', marker='_', label='max')\n",
    "ax = sns.scatterplot(data=counts_per_dec, x='field_dec', y='n_sources_median', marker='o', label='median')\n",
    "ax.set(xlabel='Field center declination (deg)', ylabel='Sources per field at given declination', ylim=(0, 150));"
   ]
  },
  {
   "cell_type": "markdown",
   "id": "68649f12-b343-4b41-9c18-f337eacb4c29",
   "metadata": {
    "tags": []
   },
   "source": [
    "##### How many stars are in one field depending on Galactic latitude?"
   ]
  },
  {
   "cell_type": "code",
   "execution_count": 158,
   "id": "8bb05d39-25fd-4e0d-bd2d-39a385dbe1a7",
   "metadata": {},
   "outputs": [],
   "source": [
    "bin_size = 2\n",
    "bins = np.arange(np.ceil(counts['field_b'].max()), np.floor(counts['field_b'].min())-bin_size, -bin_size)[::-1]\n",
    "bin_centers = (bins[0:-1] + bins[1:]) / 2"
   ]
  },
  {
   "cell_type": "code",
   "execution_count": 159,
   "id": "8ffb8120-c71e-42cf-b527-88f0dae23b18",
   "metadata": {},
   "outputs": [],
   "source": [
    "counts_grouped = counts.groupby(by=pd.cut(counts['field_b'], bins=bins))\n",
    "counts_per_b = counts_grouped.min()\n",
    "counts_per_b = counts_per_b.reset_index(drop=True).rename(columns={'n_sources': 'n_sources_min'}).loc[:, ('n_sources_min', )]\n",
    "counts_per_b.insert(0, 'b_bin_center', bin_centers)\n",
    "counts_per_b.insert(\n",
    "        2, 'n_sources_median', \n",
    "        counts_grouped.median()['n_sources'].values)\n",
    "counts_per_b.insert(\n",
    "        3, 'n_sources_mean', \n",
    "        counts_grouped.mean()['n_sources'].values)\n",
    "counts_per_b.insert(\n",
    "        4, 'n_sources_std', \n",
    "        counts_grouped.std()['n_sources'].values)\n",
    "counts_per_b.insert(\n",
    "        5, 'n_sources_max', \n",
    "        counts_grouped.max()['n_sources'].values)"
   ]
  },
  {
   "cell_type": "code",
   "execution_count": 160,
   "id": "cfd80d44-5215-469c-9e40-d212c8a8b5fb",
   "metadata": {},
   "outputs": [
    {
     "data": {
      "image/png": "[encoded data removed]",
      "text/plain": [
       "<Figure size 640x480 with 1 Axes>"
      ]
     },
     "metadata": {},
     "output_type": "display_data"
    }
   ],
   "source": [
    "ax = sns.scatterplot(data=counts_per_b, x='b_bin_center', y='n_sources_min', marker='_', label='min')\n",
    "ax = sns.scatterplot(data=counts_per_b, x='b_bin_center', y='n_sources_max', marker='_', label='max')\n",
    "ax = sns.scatterplot(data=counts_per_b, x='b_bin_center', y='n_sources_median', marker='o', label='median')\n",
    "ax.axvspan(-30, 30, color='0.9', zorder=0)\n",
    "ax.set(xlabel='Field center Galactic latitude (deg)', ylabel='Sources per field at given Galactic latitude bin');"
   ]
  },
  {
   "cell_type": "code",
   "execution_count": 161,
   "id": "e3101449-7e55-4751-8b99-6cddf165a1a0",
   "metadata": {},
   "outputs": [
    {
     "data": {
      "image/png": "[encoded data removed]",
      "text/plain": [
       "<Figure size 640x480 with 1 Axes>"
      ]
     },
     "metadata": {},
     "output_type": "display_data"
    }
   ],
   "source": [
    "ax = sns.scatterplot(data=counts_per_b, x='b_bin_center', y='n_sources_min', marker='_', label='min')\n",
    "ax = sns.scatterplot(data=counts_per_b, x='b_bin_center', y='n_sources_max', marker='_', label='max')\n",
    "ax = sns.scatterplot(data=counts_per_b, x='b_bin_center', y='n_sources_median', marker='o', label='median')\n",
    "ax.axvspan(-30, 30, color='0.9', zorder=0)\n",
    "ax.set(xlabel='Field center Galactic latitude (deg)', ylabel='Sources per field at given Galactic latitude bin', ylim=(0, 150));"
   ]
  },
  {
   "cell_type": "markdown",
   "id": "a91dfe44-54c8-40dd-acb3-b9abde5df459",
   "metadata": {},
   "source": [
    "##### How many stars are in the overlapping regions?"
   ]
  },
  {
   "cell_type": "markdown",
   "id": "e7b2cb18-171a-489f-b058-0354c7dd8b45",
   "metadata": {},
   "source": [
    "Get source counts per overlapping field pair from database, also get Galactic coordinates of field centers for first field, convert all coordinates to degrees for simpler plotting:"
   ]
  },
  {
   "cell_type": "code",
   "execution_count": 164,
   "id": "daccd6fe-9fc9-44b6-b32e-f18e49f84668",
   "metadata": {},
   "outputs": [
    {
     "data": {
      "text/html": [
       "<div>\n",
       "<style scoped>\n",
       "    .dataframe tbody tr th:only-of-type {\n",
       "        vertical-align: middle;\n",
       "    }\n",
       "\n",
       "    .dataframe tbody tr th {\n",
       "        vertical-align: top;\n",
       "    }\n",
       "\n",
       "    .dataframe thead th {\n",
       "        text-align: right;\n",
       "    }\n",
       "</style>\n",
       "<table border=\"1\" class=\"dataframe\">\n",
       "  <thead>\n",
       "    <tr style=\"text-align: right;\">\n",
       "      <th></th>\n",
       "      <th>field1_id</th>\n",
       "      <th>field2_id</th>\n",
       "      <th>n_sources</th>\n",
       "      <th>field1_ra</th>\n",
       "      <th>field1_dec</th>\n",
       "      <th>field1_l</th>\n",
       "      <th>field1_b</th>\n",
       "      <th>field1_dec_id</th>\n",
       "      <th>field2_ra</th>\n",
       "      <th>field2_dec</th>\n",
       "      <th>field2_dec_id</th>\n",
       "      <th>delta_ra</th>\n",
       "      <th>delta_dec</th>\n",
       "      <th>same_dec</th>\n",
       "    </tr>\n",
       "  </thead>\n",
       "  <tbody>\n",
       "    <tr>\n",
       "      <th>0</th>\n",
       "      <td>1</td>\n",
       "      <td>2</td>\n",
       "      <td>14</td>\n",
       "      <td>0.000000</td>\n",
       "      <td>0.166667</td>\n",
       "      <td>96.470235</td>\n",
       "      <td>-60.035618</td>\n",
       "      <td>0</td>\n",
       "      <td>0.333642</td>\n",
       "      <td>0.166667</td>\n",
       "      <td>0</td>\n",
       "      <td>0.005823</td>\n",
       "      <td>0.000000</td>\n",
       "      <td>True</td>\n",
       "    </tr>\n",
       "    <tr>\n",
       "      <th>1</th>\n",
       "      <td>1</td>\n",
       "      <td>673</td>\n",
       "      <td>14</td>\n",
       "      <td>0.000000</td>\n",
       "      <td>0.166667</td>\n",
       "      <td>96.470235</td>\n",
       "      <td>-60.035618</td>\n",
       "      <td>0</td>\n",
       "      <td>359.666358</td>\n",
       "      <td>0.166667</td>\n",
       "      <td>0</td>\n",
       "      <td>6.277362</td>\n",
       "      <td>0.000000</td>\n",
       "      <td>True</td>\n",
       "    </tr>\n",
       "    <tr>\n",
       "      <th>2</th>\n",
       "      <td>1</td>\n",
       "      <td>674</td>\n",
       "      <td>14</td>\n",
       "      <td>0.000000</td>\n",
       "      <td>0.166667</td>\n",
       "      <td>96.470235</td>\n",
       "      <td>-60.035618</td>\n",
       "      <td>0</td>\n",
       "      <td>0.000000</td>\n",
       "      <td>0.500000</td>\n",
       "      <td>1</td>\n",
       "      <td>0.000000</td>\n",
       "      <td>0.005818</td>\n",
       "      <td>False</td>\n",
       "    </tr>\n",
       "    <tr>\n",
       "      <th>3</th>\n",
       "      <td>1</td>\n",
       "      <td>675</td>\n",
       "      <td>5</td>\n",
       "      <td>0.000000</td>\n",
       "      <td>0.166667</td>\n",
       "      <td>96.470235</td>\n",
       "      <td>-60.035618</td>\n",
       "      <td>0</td>\n",
       "      <td>0.333642</td>\n",
       "      <td>0.500000</td>\n",
       "      <td>1</td>\n",
       "      <td>0.005823</td>\n",
       "      <td>0.005818</td>\n",
       "      <td>False</td>\n",
       "    </tr>\n",
       "    <tr>\n",
       "      <th>4</th>\n",
       "      <td>1</td>\n",
       "      <td>1348</td>\n",
       "      <td>6</td>\n",
       "      <td>0.000000</td>\n",
       "      <td>0.166667</td>\n",
       "      <td>96.470235</td>\n",
       "      <td>-60.035618</td>\n",
       "      <td>0</td>\n",
       "      <td>359.666358</td>\n",
       "      <td>0.500000</td>\n",
       "      <td>1</td>\n",
       "      <td>6.277362</td>\n",
       "      <td>0.005818</td>\n",
       "      <td>False</td>\n",
       "    </tr>\n",
       "    <tr>\n",
       "      <th>...</th>\n",
       "      <td>...</td>\n",
       "      <td>...</td>\n",
       "      <td>...</td>\n",
       "      <td>...</td>\n",
       "      <td>...</td>\n",
       "      <td>...</td>\n",
       "      <td>...</td>\n",
       "      <td>...</td>\n",
       "      <td>...</td>\n",
       "      <td>...</td>\n",
       "      <td>...</td>\n",
       "      <td>...</td>\n",
       "      <td>...</td>\n",
       "      <td>...</td>\n",
       "    </tr>\n",
       "    <tr>\n",
       "      <th>356516</th>\n",
       "      <td>93624</td>\n",
       "      <td>93625</td>\n",
       "      <td>22</td>\n",
       "      <td>183.396226</td>\n",
       "      <td>87.166667</td>\n",
       "      <td>123.469201</td>\n",
       "      <td>29.922000</td>\n",
       "      <td>261</td>\n",
       "      <td>190.188679</td>\n",
       "      <td>87.166667</td>\n",
       "      <td>261</td>\n",
       "      <td>0.118551</td>\n",
       "      <td>0.000000</td>\n",
       "      <td>True</td>\n",
       "    </tr>\n",
       "    <tr>\n",
       "      <th>356517</th>\n",
       "      <td>93625</td>\n",
       "      <td>93626</td>\n",
       "      <td>24</td>\n",
       "      <td>190.188679</td>\n",
       "      <td>87.166667</td>\n",
       "      <td>123.084250</td>\n",
       "      <td>29.958425</td>\n",
       "      <td>261</td>\n",
       "      <td>196.981132</td>\n",
       "      <td>87.166667</td>\n",
       "      <td>261</td>\n",
       "      <td>0.118551</td>\n",
       "      <td>0.000000</td>\n",
       "      <td>True</td>\n",
       "    </tr>\n",
       "    <tr>\n",
       "      <th>356518</th>\n",
       "      <td>93626</td>\n",
       "      <td>93627</td>\n",
       "      <td>26</td>\n",
       "      <td>196.981132</td>\n",
       "      <td>87.166667</td>\n",
       "      <td>122.696981</td>\n",
       "      <td>29.954061</td>\n",
       "      <td>261</td>\n",
       "      <td>203.773585</td>\n",
       "      <td>87.166667</td>\n",
       "      <td>261</td>\n",
       "      <td>0.118551</td>\n",
       "      <td>0.000000</td>\n",
       "      <td>True</td>\n",
       "    </tr>\n",
       "    <tr>\n",
       "      <th>356519</th>\n",
       "      <td>93627</td>\n",
       "      <td>93628</td>\n",
       "      <td>31</td>\n",
       "      <td>203.773585</td>\n",
       "      <td>87.166667</td>\n",
       "      <td>122.313287</td>\n",
       "      <td>29.908974</td>\n",
       "      <td>261</td>\n",
       "      <td>210.566038</td>\n",
       "      <td>87.166667</td>\n",
       "      <td>261</td>\n",
       "      <td>0.118551</td>\n",
       "      <td>0.000000</td>\n",
       "      <td>True</td>\n",
       "    </tr>\n",
       "    <tr>\n",
       "      <th>356520</th>\n",
       "      <td>93628</td>\n",
       "      <td>93629</td>\n",
       "      <td>22</td>\n",
       "      <td>210.566038</td>\n",
       "      <td>87.166667</td>\n",
       "      <td>121.938992</td>\n",
       "      <td>29.823852</td>\n",
       "      <td>261</td>\n",
       "      <td>217.358491</td>\n",
       "      <td>87.166667</td>\n",
       "      <td>261</td>\n",
       "      <td>0.118551</td>\n",
       "      <td>0.000000</td>\n",
       "      <td>True</td>\n",
       "    </tr>\n",
       "  </tbody>\n",
       "</table>\n",
       "<p>356521 rows × 14 columns</p>\n",
       "</div>"
      ],
      "text/plain": [
       "        field1_id  field2_id  n_sources   field1_ra  field1_dec    field1_l  \\\n",
       "0               1          2         14    0.000000    0.166667   96.470235   \n",
       "1               1        673         14    0.000000    0.166667   96.470235   \n",
       "2               1        674         14    0.000000    0.166667   96.470235   \n",
       "3               1        675          5    0.000000    0.166667   96.470235   \n",
       "4               1       1348          6    0.000000    0.166667   96.470235   \n",
       "...           ...        ...        ...         ...         ...         ...   \n",
       "356516      93624      93625         22  183.396226   87.166667  123.469201   \n",
       "356517      93625      93626         24  190.188679   87.166667  123.084250   \n",
       "356518      93626      93627         26  196.981132   87.166667  122.696981   \n",
       "356519      93627      93628         31  203.773585   87.166667  122.313287   \n",
       "356520      93628      93629         22  210.566038   87.166667  121.938992   \n",
       "\n",
       "         field1_b  field1_dec_id   field2_ra  field2_dec  field2_dec_id  \\\n",
       "0      -60.035618              0    0.333642    0.166667              0   \n",
       "1      -60.035618              0  359.666358    0.166667              0   \n",
       "2      -60.035618              0    0.000000    0.500000              1   \n",
       "3      -60.035618              0    0.333642    0.500000              1   \n",
       "4      -60.035618              0  359.666358    0.500000              1   \n",
       "...           ...            ...         ...         ...            ...   \n",
       "356516  29.922000            261  190.188679   87.166667            261   \n",
       "356517  29.958425            261  196.981132   87.166667            261   \n",
       "356518  29.954061            261  203.773585   87.166667            261   \n",
       "356519  29.908974            261  210.566038   87.166667            261   \n",
       "356520  29.823852            261  217.358491   87.166667            261   \n",
       "\n",
       "        delta_ra  delta_dec  same_dec  \n",
       "0       0.005823   0.000000      True  \n",
       "1       6.277362   0.000000      True  \n",
       "2       0.000000   0.005818     False  \n",
       "3       0.005823   0.005818     False  \n",
       "4       6.277362   0.005818     False  \n",
       "...          ...        ...       ...  \n",
       "356516  0.118551   0.000000      True  \n",
       "356517  0.118551   0.000000      True  \n",
       "356518  0.118551   0.000000      True  \n",
       "356519  0.118551   0.000000      True  \n",
       "356520  0.118551   0.000000      True  \n",
       "\n",
       "[356521 rows x 14 columns]"
      ]
     },
     "execution_count": 164,
     "metadata": {},
     "output_type": "execute_result"
    }
   ],
   "source": [
    "overlapping_fields = get_overlapping_fields(db)\n",
    "overlapping_fields['field1_ra'] = np.degrees(overlapping_fields['field1_ra'])\n",
    "overlapping_fields['field1_dec'] = np.degrees(overlapping_fields['field1_dec'])\n",
    "overlapping_fields['field2_ra'] = np.degrees(overlapping_fields['field2_ra'])\n",
    "overlapping_fields['field2_dec'] = np.degrees(overlapping_fields['field2_dec'])\n",
    "\n",
    "# transform to Galactic coordinates:\n",
    "coords = SkyCoord(ra=overlapping_fields['field1_ra']*u.deg, dec=overlapping_fields['field1_dec']*u.deg, frame='icrs')\n",
    "overlapping_fields.insert(5, 'field1_l', coords.galactic.l.deg)\n",
    "overlapping_fields.insert(6, 'field1_b', coords.galactic.b.deg)\n",
    "del coords\n",
    "\n",
    "overlapping_fields"
   ]
  },
  {
   "cell_type": "markdown",
   "id": "d8de7a3f-fcab-47df-907a-69280d353203",
   "metadata": {},
   "source": [
    "Distribution of number of sources in overlapping regions:"
   ]
  },
  {
   "cell_type": "code",
   "execution_count": 165,
   "id": "180c077a-34fe-4807-b47f-0ce90e538daa",
   "metadata": {},
   "outputs": [
    {
     "data": {
      "image/png": "[encoded data removed]",
      "text/plain": [
       "<Figure size 640x480 with 1 Axes>"
      ]
     },
     "metadata": {},
     "output_type": "display_data"
    }
   ],
   "source": [
    "ax = sns.histplot(data=overlapping_fields, x='n_sources', hue='same_dec', discrete=True)\n",
    "ax.set(xlabel='Number of sources in overlapping regions', xlim=(0, 50));"
   ]
  },
  {
   "cell_type": "code",
   "execution_count": 180,
   "id": "96500a1f-0122-4122-bc33-5594f26ca7e9",
   "metadata": {},
   "outputs": [
    {
     "name": "stdout",
     "output_type": "stream",
     "text": [
      "Same declination:\n",
      "count    93268.000000\n",
      "mean        16.839463\n",
      "std          7.266756\n",
      "min          1.000000\n",
      "25%         12.000000\n",
      "50%         16.000000\n",
      "75%         21.000000\n",
      "max        461.000000\n",
      "Name: n_sources, dtype: float64\n",
      "\n",
      "Different declination:\n",
      "count    263253.000000\n",
      "mean          9.140610\n",
      "std           6.708118\n",
      "min           1.000000\n",
      "25%           4.000000\n",
      "50%           8.000000\n",
      "75%          13.000000\n",
      "max         463.000000\n",
      "Name: n_sources, dtype: float64\n"
     ]
    }
   ],
   "source": [
    "print('Same declination:')\n",
    "sel = overlapping_fields['same_dec']\n",
    "print(overlapping_fields.loc[sel, 'n_sources'].describe())\n",
    "\n",
    "print('\\nDifferent declination:')\n",
    "print(overlapping_fields.loc[~sel, 'n_sources'].describe())"
   ]
  },
  {
   "cell_type": "markdown",
   "id": "d8a587b6-0318-4789-a4aa-9d37030ce0d4",
   "metadata": {
    "tags": []
   },
   "source": [
    "##### How many stars are in the overlapping regions depending on Galactic latitude?"
   ]
  },
  {
   "cell_type": "code",
   "execution_count": 166,
   "id": "759c9692-f1d0-4ed3-923d-3cf5c457f676",
   "metadata": {},
   "outputs": [],
   "source": [
    "bin_size = 2\n",
    "bins = np.arange(np.ceil(overlapping_fields['field1_b'].max()), np.floor(overlapping_fields['field1_b'].min())-bin_size, -bin_size)[::-1]\n",
    "bin_centers = (bins[0:-1] + bins[1:]) / 2"
   ]
  },
  {
   "cell_type": "markdown",
   "id": "baec5924-8896-4b17-bca4-f70b84677072",
   "metadata": {},
   "source": [
    "For field pairs in the same declination ring:"
   ]
  },
  {
   "cell_type": "code",
   "execution_count": 170,
   "id": "9ffbbfa6-ae02-45a7-885d-da89304a2196",
   "metadata": {},
   "outputs": [
    {
     "data": {
      "text/html": [
       "<div>\n",
       "<style scoped>\n",
       "    .dataframe tbody tr th:only-of-type {\n",
       "        vertical-align: middle;\n",
       "    }\n",
       "\n",
       "    .dataframe tbody tr th {\n",
       "        vertical-align: top;\n",
       "    }\n",
       "\n",
       "    .dataframe thead th {\n",
       "        text-align: right;\n",
       "    }\n",
       "</style>\n",
       "<table border=\"1\" class=\"dataframe\">\n",
       "  <thead>\n",
       "    <tr style=\"text-align: right;\">\n",
       "      <th></th>\n",
       "      <th>b_bin_center</th>\n",
       "      <th>n_sources_min</th>\n",
       "      <th>n_sources_median</th>\n",
       "      <th>n_sources_mean</th>\n",
       "      <th>n_sources_std</th>\n",
       "      <th>n_sources_max</th>\n",
       "    </tr>\n",
       "  </thead>\n",
       "  <tbody>\n",
       "    <tr>\n",
       "      <th>0</th>\n",
       "      <td>-63.0</td>\n",
       "      <td>4.0</td>\n",
       "      <td>12.0</td>\n",
       "      <td>12.350649</td>\n",
       "      <td>4.002520</td>\n",
       "      <td>22.0</td>\n",
       "    </tr>\n",
       "    <tr>\n",
       "      <th>1</th>\n",
       "      <td>-61.0</td>\n",
       "      <td>4.0</td>\n",
       "      <td>13.0</td>\n",
       "      <td>13.046392</td>\n",
       "      <td>3.906254</td>\n",
       "      <td>28.0</td>\n",
       "    </tr>\n",
       "    <tr>\n",
       "      <th>2</th>\n",
       "      <td>-59.0</td>\n",
       "      <td>4.0</td>\n",
       "      <td>13.0</td>\n",
       "      <td>13.525773</td>\n",
       "      <td>3.533248</td>\n",
       "      <td>26.0</td>\n",
       "    </tr>\n",
       "    <tr>\n",
       "      <th>3</th>\n",
       "      <td>-57.0</td>\n",
       "      <td>5.0</td>\n",
       "      <td>14.0</td>\n",
       "      <td>13.915436</td>\n",
       "      <td>3.799702</td>\n",
       "      <td>28.0</td>\n",
       "    </tr>\n",
       "    <tr>\n",
       "      <th>4</th>\n",
       "      <td>-55.0</td>\n",
       "      <td>4.0</td>\n",
       "      <td>14.0</td>\n",
       "      <td>13.833333</td>\n",
       "      <td>3.785164</td>\n",
       "      <td>29.0</td>\n",
       "    </tr>\n",
       "    <tr>\n",
       "      <th>...</th>\n",
       "      <td>...</td>\n",
       "      <td>...</td>\n",
       "      <td>...</td>\n",
       "      <td>...</td>\n",
       "      <td>...</td>\n",
       "      <td>...</td>\n",
       "    </tr>\n",
       "    <tr>\n",
       "      <th>72</th>\n",
       "      <td>81.0</td>\n",
       "      <td>1.0</td>\n",
       "      <td>10.0</td>\n",
       "      <td>10.172754</td>\n",
       "      <td>3.216614</td>\n",
       "      <td>25.0</td>\n",
       "    </tr>\n",
       "    <tr>\n",
       "      <th>73</th>\n",
       "      <td>83.0</td>\n",
       "      <td>2.0</td>\n",
       "      <td>10.0</td>\n",
       "      <td>10.083863</td>\n",
       "      <td>3.170407</td>\n",
       "      <td>20.0</td>\n",
       "    </tr>\n",
       "    <tr>\n",
       "      <th>74</th>\n",
       "      <td>85.0</td>\n",
       "      <td>2.0</td>\n",
       "      <td>10.0</td>\n",
       "      <td>10.219858</td>\n",
       "      <td>3.237419</td>\n",
       "      <td>25.0</td>\n",
       "    </tr>\n",
       "    <tr>\n",
       "      <th>75</th>\n",
       "      <td>87.0</td>\n",
       "      <td>2.0</td>\n",
       "      <td>10.0</td>\n",
       "      <td>10.265487</td>\n",
       "      <td>3.342441</td>\n",
       "      <td>20.0</td>\n",
       "    </tr>\n",
       "    <tr>\n",
       "      <th>76</th>\n",
       "      <td>89.0</td>\n",
       "      <td>2.0</td>\n",
       "      <td>9.0</td>\n",
       "      <td>9.601770</td>\n",
       "      <td>3.219749</td>\n",
       "      <td>17.0</td>\n",
       "    </tr>\n",
       "  </tbody>\n",
       "</table>\n",
       "<p>77 rows × 6 columns</p>\n",
       "</div>"
      ],
      "text/plain": [
       "    b_bin_center  n_sources_min  n_sources_median  n_sources_mean  \\\n",
       "0          -63.0            4.0              12.0       12.350649   \n",
       "1          -61.0            4.0              13.0       13.046392   \n",
       "2          -59.0            4.0              13.0       13.525773   \n",
       "3          -57.0            5.0              14.0       13.915436   \n",
       "4          -55.0            4.0              14.0       13.833333   \n",
       "..           ...            ...               ...             ...   \n",
       "72          81.0            1.0              10.0       10.172754   \n",
       "73          83.0            2.0              10.0       10.083863   \n",
       "74          85.0            2.0              10.0       10.219858   \n",
       "75          87.0            2.0              10.0       10.265487   \n",
       "76          89.0            2.0               9.0        9.601770   \n",
       "\n",
       "    n_sources_std  n_sources_max  \n",
       "0        4.002520           22.0  \n",
       "1        3.906254           28.0  \n",
       "2        3.533248           26.0  \n",
       "3        3.799702           28.0  \n",
       "4        3.785164           29.0  \n",
       "..            ...            ...  \n",
       "72       3.216614           25.0  \n",
       "73       3.170407           20.0  \n",
       "74       3.237419           25.0  \n",
       "75       3.342441           20.0  \n",
       "76       3.219749           17.0  \n",
       "\n",
       "[77 rows x 6 columns]"
      ]
     },
     "execution_count": 170,
     "metadata": {},
     "output_type": "execute_result"
    }
   ],
   "source": [
    "sel = overlapping_fields['same_dec']\n",
    "counts_grouped = overlapping_fields.loc[sel].groupby(by=pd.cut(overlapping_fields.loc[sel, 'field1_b'], bins=bins))\n",
    "overlapping_fields_per_b = counts_grouped.min()\n",
    "overlapping_fields_per_b = overlapping_fields_per_b.reset_index(drop=True).rename(columns={'n_sources': 'n_sources_min'}).loc[:, ('n_sources_min', )]\n",
    "overlapping_fields_per_b.insert(0, 'b_bin_center', bin_centers)\n",
    "overlapping_fields_per_b.insert(\n",
    "        2, 'n_sources_median', \n",
    "        counts_grouped.median()['n_sources'].values)\n",
    "overlapping_fields_per_b.insert(\n",
    "        3, 'n_sources_mean', \n",
    "        counts_grouped.mean()['n_sources'].values)\n",
    "overlapping_fields_per_b.insert(\n",
    "        4, 'n_sources_std', \n",
    "        counts_grouped.std()['n_sources'].values)\n",
    "overlapping_fields_per_b.insert(\n",
    "        5, 'n_sources_max', \n",
    "        counts_grouped.max()['n_sources'].values)\n",
    "\n",
    "overlapping_fields_per_b"
   ]
  },
  {
   "cell_type": "code",
   "execution_count": 171,
   "id": "a8afdeef-dbd8-4f19-9e16-f90fe8256424",
   "metadata": {},
   "outputs": [
    {
     "data": {
      "image/png": "[encoded data removed]",
      "text/plain": [
       "<Figure size 640x480 with 1 Axes>"
      ]
     },
     "metadata": {},
     "output_type": "display_data"
    }
   ],
   "source": [
    "ax = sns.scatterplot(data=overlapping_fields_per_b, x='b_bin_center', y='n_sources_min', marker='_', label='min')\n",
    "ax = sns.scatterplot(data=overlapping_fields_per_b, x='b_bin_center', y='n_sources_max', marker='_', label='max')\n",
    "ax = sns.scatterplot(data=overlapping_fields_per_b, x='b_bin_center', y='n_sources_median', marker='o', label='median')\n",
    "ax.axvspan(-30, 30, color='0.9', zorder=0)\n",
    "ax.set(xlabel='Field center Galactic latitude (deg)', ylabel='Sources per field at given Galactic latitude bin');"
   ]
  },
  {
   "cell_type": "code",
   "execution_count": 176,
   "id": "9a758575-08cf-493a-aa7e-d9b805ea5d18",
   "metadata": {},
   "outputs": [
    {
     "data": {
      "image/png": "[encoded data removed]",
      "text/plain": [
       "<Figure size 640x480 with 1 Axes>"
      ]
     },
     "metadata": {},
     "output_type": "display_data"
    }
   ],
   "source": [
    "ax = sns.scatterplot(data=overlapping_fields_per_b, x='b_bin_center', y='n_sources_min', marker='_', label='min')\n",
    "ax = sns.scatterplot(data=overlapping_fields_per_b, x='b_bin_center', y='n_sources_max', marker='_', label='max')\n",
    "ax = sns.scatterplot(data=overlapping_fields_per_b, x='b_bin_center', y='n_sources_median', marker='o', label='median')\n",
    "ax.axvspan(-30, 30, color='0.9', zorder=0)\n",
    "ax.set(xlabel='Field center Galactic latitude (deg)', ylabel='Sources per overlapping region at given\\nGalactic latitude bin', ylim=(0, 100));"
   ]
  },
  {
   "cell_type": "markdown",
   "id": "db0dded0-77f2-4583-9a59-6da5cc67909a",
   "metadata": {},
   "source": [
    "For field pairs *not* in the same declination ring:"
   ]
  },
  {
   "cell_type": "code",
   "execution_count": 177,
   "id": "c595a2bb-6023-4a43-8767-c99830e37401",
   "metadata": {},
   "outputs": [
    {
     "data": {
      "text/html": [
       "<div>\n",
       "<style scoped>\n",
       "    .dataframe tbody tr th:only-of-type {\n",
       "        vertical-align: middle;\n",
       "    }\n",
       "\n",
       "    .dataframe tbody tr th {\n",
       "        vertical-align: top;\n",
       "    }\n",
       "\n",
       "    .dataframe thead th {\n",
       "        text-align: right;\n",
       "    }\n",
       "</style>\n",
       "<table border=\"1\" class=\"dataframe\">\n",
       "  <thead>\n",
       "    <tr style=\"text-align: right;\">\n",
       "      <th></th>\n",
       "      <th>b_bin_center</th>\n",
       "      <th>n_sources_min</th>\n",
       "      <th>n_sources_median</th>\n",
       "      <th>n_sources_mean</th>\n",
       "      <th>n_sources_std</th>\n",
       "      <th>n_sources_max</th>\n",
       "    </tr>\n",
       "  </thead>\n",
       "  <tbody>\n",
       "    <tr>\n",
       "      <th>0</th>\n",
       "      <td>-63.0</td>\n",
       "      <td>1.0</td>\n",
       "      <td>6.0</td>\n",
       "      <td>7.463203</td>\n",
       "      <td>4.799202</td>\n",
       "      <td>21.0</td>\n",
       "    </tr>\n",
       "    <tr>\n",
       "      <th>1</th>\n",
       "      <td>-61.0</td>\n",
       "      <td>1.0</td>\n",
       "      <td>6.0</td>\n",
       "      <td>7.464874</td>\n",
       "      <td>4.995208</td>\n",
       "      <td>26.0</td>\n",
       "    </tr>\n",
       "    <tr>\n",
       "      <th>2</th>\n",
       "      <td>-59.0</td>\n",
       "      <td>1.0</td>\n",
       "      <td>6.0</td>\n",
       "      <td>7.602890</td>\n",
       "      <td>5.034995</td>\n",
       "      <td>27.0</td>\n",
       "    </tr>\n",
       "    <tr>\n",
       "      <th>3</th>\n",
       "      <td>-57.0</td>\n",
       "      <td>1.0</td>\n",
       "      <td>6.0</td>\n",
       "      <td>7.696573</td>\n",
       "      <td>5.137127</td>\n",
       "      <td>26.0</td>\n",
       "    </tr>\n",
       "    <tr>\n",
       "      <th>4</th>\n",
       "      <td>-55.0</td>\n",
       "      <td>1.0</td>\n",
       "      <td>6.0</td>\n",
       "      <td>7.727790</td>\n",
       "      <td>5.193112</td>\n",
       "      <td>26.0</td>\n",
       "    </tr>\n",
       "    <tr>\n",
       "      <th>...</th>\n",
       "      <td>...</td>\n",
       "      <td>...</td>\n",
       "      <td>...</td>\n",
       "      <td>...</td>\n",
       "      <td>...</td>\n",
       "      <td>...</td>\n",
       "    </tr>\n",
       "    <tr>\n",
       "      <th>72</th>\n",
       "      <td>81.0</td>\n",
       "      <td>1.0</td>\n",
       "      <td>5.0</td>\n",
       "      <td>5.702035</td>\n",
       "      <td>3.548371</td>\n",
       "      <td>19.0</td>\n",
       "    </tr>\n",
       "    <tr>\n",
       "      <th>73</th>\n",
       "      <td>83.0</td>\n",
       "      <td>1.0</td>\n",
       "      <td>5.0</td>\n",
       "      <td>5.579772</td>\n",
       "      <td>3.458962</td>\n",
       "      <td>18.0</td>\n",
       "    </tr>\n",
       "    <tr>\n",
       "      <th>74</th>\n",
       "      <td>85.0</td>\n",
       "      <td>1.0</td>\n",
       "      <td>5.0</td>\n",
       "      <td>5.572099</td>\n",
       "      <td>3.398480</td>\n",
       "      <td>22.0</td>\n",
       "    </tr>\n",
       "    <tr>\n",
       "      <th>75</th>\n",
       "      <td>87.0</td>\n",
       "      <td>1.0</td>\n",
       "      <td>6.0</td>\n",
       "      <td>5.713318</td>\n",
       "      <td>3.458745</td>\n",
       "      <td>19.0</td>\n",
       "    </tr>\n",
       "    <tr>\n",
       "      <th>76</th>\n",
       "      <td>89.0</td>\n",
       "      <td>1.0</td>\n",
       "      <td>5.0</td>\n",
       "      <td>5.112628</td>\n",
       "      <td>3.033649</td>\n",
       "      <td>14.0</td>\n",
       "    </tr>\n",
       "  </tbody>\n",
       "</table>\n",
       "<p>77 rows × 6 columns</p>\n",
       "</div>"
      ],
      "text/plain": [
       "    b_bin_center  n_sources_min  n_sources_median  n_sources_mean  \\\n",
       "0          -63.0            1.0               6.0        7.463203   \n",
       "1          -61.0            1.0               6.0        7.464874   \n",
       "2          -59.0            1.0               6.0        7.602890   \n",
       "3          -57.0            1.0               6.0        7.696573   \n",
       "4          -55.0            1.0               6.0        7.727790   \n",
       "..           ...            ...               ...             ...   \n",
       "72          81.0            1.0               5.0        5.702035   \n",
       "73          83.0            1.0               5.0        5.579772   \n",
       "74          85.0            1.0               5.0        5.572099   \n",
       "75          87.0            1.0               6.0        5.713318   \n",
       "76          89.0            1.0               5.0        5.112628   \n",
       "\n",
       "    n_sources_std  n_sources_max  \n",
       "0        4.799202           21.0  \n",
       "1        4.995208           26.0  \n",
       "2        5.034995           27.0  \n",
       "3        5.137127           26.0  \n",
       "4        5.193112           26.0  \n",
       "..            ...            ...  \n",
       "72       3.548371           19.0  \n",
       "73       3.458962           18.0  \n",
       "74       3.398480           22.0  \n",
       "75       3.458745           19.0  \n",
       "76       3.033649           14.0  \n",
       "\n",
       "[77 rows x 6 columns]"
      ]
     },
     "execution_count": 177,
     "metadata": {},
     "output_type": "execute_result"
    }
   ],
   "source": [
    "sel = ~overlapping_fields['same_dec']\n",
    "counts_grouped = overlapping_fields.loc[sel].groupby(by=pd.cut(overlapping_fields.loc[sel, 'field1_b'], bins=bins))\n",
    "overlapping_fields_per_b = counts_grouped.min()\n",
    "overlapping_fields_per_b = overlapping_fields_per_b.reset_index(drop=True).rename(columns={'n_sources': 'n_sources_min'}).loc[:, ('n_sources_min', )]\n",
    "overlapping_fields_per_b.insert(0, 'b_bin_center', bin_centers)\n",
    "overlapping_fields_per_b.insert(\n",
    "        2, 'n_sources_median', \n",
    "        counts_grouped.median()['n_sources'].values)\n",
    "overlapping_fields_per_b.insert(\n",
    "        3, 'n_sources_mean', \n",
    "        counts_grouped.mean()['n_sources'].values)\n",
    "overlapping_fields_per_b.insert(\n",
    "        4, 'n_sources_std', \n",
    "        counts_grouped.std()['n_sources'].values)\n",
    "overlapping_fields_per_b.insert(\n",
    "        5, 'n_sources_max', \n",
    "        counts_grouped.max()['n_sources'].values)\n",
    "\n",
    "overlapping_fields_per_b"
   ]
  },
  {
   "cell_type": "code",
   "execution_count": 178,
   "id": "bcb6686d-12e8-4aec-91b1-16f83dae42fe",
   "metadata": {},
   "outputs": [
    {
     "data": {
      "image/png": "[encoded data removed]",
      "text/plain": [
       "<Figure size 640x480 with 1 Axes>"
      ]
     },
     "metadata": {},
     "output_type": "display_data"
    }
   ],
   "source": [
    "ax = sns.scatterplot(data=overlapping_fields_per_b, x='b_bin_center', y='n_sources_min', marker='_', label='min')\n",
    "ax = sns.scatterplot(data=overlapping_fields_per_b, x='b_bin_center', y='n_sources_max', marker='_', label='max')\n",
    "ax = sns.scatterplot(data=overlapping_fields_per_b, x='b_bin_center', y='n_sources_median', marker='o', label='median')\n",
    "ax.axvspan(-30, 30, color='0.9', zorder=0)\n",
    "ax.set(xlabel='Field center Galactic latitude (deg)', ylabel='Sources per field at given Galactic latitude bin');"
   ]
  },
  {
   "cell_type": "code",
   "execution_count": 179,
   "id": "c6693ced-bc0d-48a7-a08a-3f1bd73d812a",
   "metadata": {},
   "outputs": [
    {
     "data": {
      "image/png": "[encoded data removed]",
      "text/plain": [
       "<Figure size 640x480 with 1 Axes>"
      ]
     },
     "metadata": {},
     "output_type": "display_data"
    }
   ],
   "source": [
    "ax = sns.scatterplot(data=overlapping_fields_per_b, x='b_bin_center', y='n_sources_min', marker='_', label='min')\n",
    "ax = sns.scatterplot(data=overlapping_fields_per_b, x='b_bin_center', y='n_sources_max', marker='_', label='max')\n",
    "ax = sns.scatterplot(data=overlapping_fields_per_b, x='b_bin_center', y='n_sources_median', marker='o', label='median')\n",
    "ax.axvspan(-30, 30, color='0.9', zorder=0)\n",
    "ax.set(xlabel='Field center Galactic latitude (deg)', ylabel='Sources per overlapping region at given\\nGalactic latitude bin', ylim=(0, 100));"
   ]
  },
  {
   "cell_type": "code",
   "execution_count": null,
   "id": "d60f5a72-ff72-4ec8-b519-bc5304a201e5",
   "metadata": {},
   "outputs": [],
   "source": []
  }
 ],
 "metadata": {
  "kernelspec": {
   "display_name": "Python 3 (ipykernel)",
   "language": "python",
   "name": "python3"
  },
  "language_info": {
   "codemirror_mode": {
    "name": "ipython",
    "version": 3
   },
   "file_extension": ".py",
   "mimetype": "text/x-python",
   "name": "python",
   "nbconvert_exporter": "python",
   "pygments_lexer": "ipython3",
   "version": "3.9.7"
  },
  "toc-autonumbering": true
 },
 "nbformat": 4,
 "nbformat_minor": 5
}
